{
 "cells": [
  {
   "cell_type": "raw",
   "id": "9f1fcc2b-6987-4c6b-a608-7af880253c28",
   "metadata": {},
   "source": [
    "1. Create an assert statement that throws an AssertionError if the variable spam is a negative\n",
    "integer.\n",
    "\n",
    "Answer:-Statement that throws an AssertionError if the variable spam is a negative\n",
    "integer:-\n",
    "\n",
    "spam = -1\n",
    "assert spam >= 0"
   ]
  },
  {
   "cell_type": "raw",
   "id": "d41f8c5e-715e-4f6d-891c-9bb84e382bf1",
   "metadata": {},
   "source": [
    "2. Write an assert statement that triggers an AssertionError if the variables eggs and bacon contain\n",
    "strings that are the same as each other, even if their cases are different (that is, 'hello' and 'hello' are\n",
    "considered the same, and 'goodbye' and 'GOODbye' are also considered the same).\n",
    "\n",
    "Answer:- statement that triggers an AssertionError if the variables eggs and bacon contain\n",
    "strings that are the same as each other, even if their cases are different:-\n",
    "\n",
    "eggs = 'HEllo'\n",
    "bacon = 'hello'\n",
    "\n",
    "assert eggs.lower() != bacon.lower()"
   ]
  },
  {
   "cell_type": "raw",
   "id": "ed0d13ec-5568-4a5d-abe2-585e920bbfaa",
   "metadata": {},
   "source": [
    "3. Create an assert statement that throws an AssertionError every time.\n",
    "\n",
    "Answer:- Statement that throws an AssertionError every time:-\n",
    "\n",
    "assert False"
   ]
  },
  {
   "cell_type": "raw",
   "id": "5903f8cf-c65b-47f5-8c1a-577d2ef0d0b8",
   "metadata": {},
   "source": [
    "4. What are the two lines that must be present in your software in order to call logging.debug()?\n",
    "\n",
    "Answer:- First you should import the logging module, which gives you functionality to use debugging in python,\n",
    "second you should set up the basic configuration for logging like this (logging.basicConfig(filename='debug.log',level=logging.DEBUG)), \n",
    "now you'll be able to call logging.debug() in your software."
   ]
  },
  {
   "cell_type": "raw",
   "id": "ac452a50-904b-4692-80ad-b4501980f821",
   "metadata": {},
   "source": [
    "5. What are the two lines that your program must have in order to have logging.debug() send a\n",
    "logging message to a file named programLog.txt?\n",
    "\n",
    "Answer:- First you should import the logging module, which gives you functionality to use debugging in python,\n",
    "second you should set up the basic configuration for logging like this (logging.basicConfig(filename='programlog.txt',level=logging.DEBUG)), \n",
    "now you'll be able to call logging.debug() in your software and It'll send logging message to the programlog.txt file."
   ]
  },
  {
   "cell_type": "raw",
   "id": "88659ca0-2c4e-431b-a579-9df5f5e9904b",
   "metadata": {},
   "source": [
    "6. What are the five levels of logging?\n",
    "\n",
    "Answer:- Five levels of logging are:-\n",
    "1. Debug\n",
    "2. INFO\n",
    "3. Warning\n",
    "4. Error\n",
    "5. Critical"
   ]
  },
  {
   "cell_type": "raw",
   "id": "167bd84c-227c-425e-99b9-47a41e5b4125",
   "metadata": {},
   "source": [
    "7. What line of code would you add to your software to disable all logging messages?\n",
    "\n",
    "Answer:- logging.disable(logging.CRITICAL) will disable all logging messages."
   ]
  },
  {
   "cell_type": "raw",
   "id": "dd15f727-0a97-40b6-a25f-9564a115d84b",
   "metadata": {},
   "source": [
    "8.Why is using logging messages better than using print() to display the same message?\n",
    "\n",
    "Answer:- Logging messages better than print() because it gives more functionality and flexibility, also makes troubleshooting easier."
   ]
  },
  {
   "cell_type": "raw",
   "id": "4685e511-86e4-4cac-ac92-a781f7bb4c47",
   "metadata": {},
   "source": [
    "9. What are the differences between the Step Over, Step In, and Step Out buttons in the debugger?\n",
    "\n",
    "Answer:-  the step over button runs the current line, step in dives into the execution of a function call, and step out exits the current function and returns to the calling function."
   ]
  },
  {
   "cell_type": "raw",
   "id": "6a66a7a0-fd91-454f-8112-19860acaaa0e",
   "metadata": {},
   "source": [
    "10.After you click Continue, when will the debugger stop ?\n",
    "\n",
    "Answer:- \"Continue\" lets the program run uninterrupted until it reaches the end of code, any exception occurs and if you have set any breakpoint in the code."
   ]
  },
  {
   "cell_type": "raw",
   "id": "26feb820-f158-4c2d-9208-6b1d68ef3fe6",
   "metadata": {},
   "source": [
    "11. What is the concept of a breakpoint?\n",
    "\n",
    "Answer:- When you set a breakpoint in a line in your code, the debugger will pause the program's execution when it reaches that line during debugging."
   ]
  }
 ],
 "metadata": {
  "kernelspec": {
   "display_name": "Python 3 (ipykernel)",
   "language": "python",
   "name": "python3"
  },
  "language_info": {
   "codemirror_mode": {
    "name": "ipython",
    "version": 3
   },
   "file_extension": ".py",
   "mimetype": "text/x-python",
   "name": "python",
   "nbconvert_exporter": "python",
   "pygments_lexer": "ipython3",
   "version": "3.10.6"
  }
 },
 "nbformat": 4,
 "nbformat_minor": 5
}
