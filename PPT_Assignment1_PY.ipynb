{
 "cells": [
  {
   "cell_type": "code",
   "execution_count": 130,
   "id": "e0a71e6d-8cc0-4167-85e8-841bb3aa7c9a",
   "metadata": {},
   "outputs": [
    {
     "data": {
      "text/plain": [
       "'edoc a gnitirw ma I'"
      ]
     },
     "execution_count": 130,
     "metadata": {},
     "output_type": "execute_result"
    }
   ],
   "source": [
    "'''1. Write a Python program to reverse a string without using any built-in string reversal functions.'''\n",
    "#Answer:-\n",
    "def reverse_str(string):\n",
    "    if type(string) == str:\n",
    "        \n",
    "        return string[::-1]\n",
    "    else:\n",
    "        raise Exception(\"Please enter string\")\n",
    "    \n",
    "string = 'I am writing a code'\n",
    "reverse_str(string)"
   ]
  },
  {
   "cell_type": "code",
   "execution_count": 131,
   "id": "9c89559a-2ff8-4711-b928-de52f0328976",
   "metadata": {},
   "outputs": [
    {
     "data": {
      "text/plain": [
       "'Its a palindrome'"
      ]
     },
     "execution_count": 131,
     "metadata": {},
     "output_type": "execute_result"
    }
   ],
   "source": [
    "'''2. Implement a function to check if a given string is a palindrome.'''\n",
    "\n",
    "#Answer:-\n",
    "def is_palindrome(string):\n",
    "    if type(string) == str:\n",
    "        string = string.lower()\n",
    "        if string[::-1] == string:\n",
    "            return 'Its a palindrome'\n",
    "        else:\n",
    "            return 'Not a palindrome'\n",
    "        \n",
    "    else:\n",
    "        raise Exception(\"Please enter string\")\n",
    "\n",
    "string = 'Arora'\n",
    "is_palindrome(string)        "
   ]
  },
  {
   "cell_type": "code",
   "execution_count": 132,
   "id": "214b874a-3188-41cf-b332-bdef8751c32b",
   "metadata": {},
   "outputs": [
    {
     "name": "stdout",
     "output_type": "stream",
     "text": [
      "The largest element in the list is: 10\n"
     ]
    }
   ],
   "source": [
    "'''3. Write a program to find the largest element in a given list.'''\n",
    "\n",
    "#Answer:-\n",
    "def find_largest_element(lst):\n",
    "    if type(lst)== list:\n",
    "        \n",
    "        if len(lst) == 0:\n",
    "            return None\n",
    "\n",
    "        largest = lst[0] \n",
    "\n",
    "        for element in lst:\n",
    "            if element > largest:\n",
    "                largest = element\n",
    "\n",
    "        return largest\n",
    "    else:\n",
    "        raise Exception(\"Please enter List\")\n",
    "\n",
    "my_list = [5, 9, 2, 10, 1, 8]\n",
    "largest_element = find_largest_element(my_list)\n",
    "print(\"The largest element in the list is:\", largest_element)"
   ]
  },
  {
   "cell_type": "code",
   "execution_count": 133,
   "id": "c6a65a61-dc18-475e-bb7a-3b01a7c86b9f",
   "metadata": {},
   "outputs": [
    {
     "name": "stdout",
     "output_type": "stream",
     "text": [
      "The occurences of elements:  {1: 2, 2: 4, 4: 3, 5: 2, 3: 2}\n"
     ]
    }
   ],
   "source": [
    "'''4. Implement a function to count the occurrence of each element in a list.'''\n",
    "#Answer:-\n",
    "def occurence(lst):\n",
    "    if type(lst)== list:\n",
    "        count = {}\n",
    "        for i in lst:\n",
    "            if i in count:\n",
    "                count[i] += 1\n",
    "            else:\n",
    "                count[i] = 1\n",
    "        return count\n",
    "                            \n",
    "    else:\n",
    "        raise Exception(\"Please enter a list\")\n",
    "        \n",
    "lst = [1,2,4,5,1,2,2,3,3,4,4,5,2]\n",
    "occurence = occurence(lst)\n",
    "print(\"The occurences of elements: \",occurence)"
   ]
  },
  {
   "cell_type": "code",
   "execution_count": 134,
   "id": "ec880515-b863-40e0-931a-7fb4e5380598",
   "metadata": {},
   "outputs": [
    {
     "data": {
      "text/plain": [
       "7"
      ]
     },
     "execution_count": 134,
     "metadata": {},
     "output_type": "execute_result"
    }
   ],
   "source": [
    "'''5. Write a Python program to find the second largest number in a list.'''\n",
    "#Answer:-\n",
    "def second_largest(lst):\n",
    "    if type(lst)== list:\n",
    "        if len(lst) < 2:\n",
    "            return None\n",
    "    \n",
    "        largest = max(lst[0], lst[1])\n",
    "        second_largest = min(lst[0], lst[1])\n",
    "\n",
    "        for i in range(2, len(lst)):\n",
    "            if lst[i] > largest:\n",
    "                second_largest = largest\n",
    "                largest = lst[i]\n",
    "            elif lst[i] > second_largest and lst[i] < largest:\n",
    "                second_largest = lst[i]\n",
    "\n",
    "        return second_largest\n",
    "    else:\n",
    "        raise Exception(\"Please enter List\")\n",
    "        \n",
    "lst = [9, 2, 7, 3, 5] \n",
    "second_largest(lst)"
   ]
  },
  {
   "cell_type": "code",
   "execution_count": 135,
   "id": "2cf5db1d-cde7-46bb-ac85-2a569a6209d6",
   "metadata": {},
   "outputs": [
    {
     "data": {
      "text/plain": [
       "[1, 2, 3, 4, 5]"
      ]
     },
     "execution_count": 135,
     "metadata": {},
     "output_type": "execute_result"
    }
   ],
   "source": [
    "'''6. Implement a function to remove duplicate elements from a list.'''\n",
    "#Answer:-\n",
    "def remove_duplicate(lst):\n",
    "    if type(lst)== list:\n",
    "        return list(set(lst))\n",
    "\n",
    "        \n",
    "    else:\n",
    "        raise Exception(\"Please enter a list\")\n",
    "        \n",
    "lst = [1,2,4,5,1,2,2,3,3,4,4,5,2]\n",
    "remove_duplicate(lst)"
   ]
  },
  {
   "cell_type": "code",
   "execution_count": 136,
   "id": "23e00e23-f744-45dc-aaac-74a47946ddf7",
   "metadata": {},
   "outputs": [
    {
     "data": {
      "text/plain": [
       "40320"
      ]
     },
     "execution_count": 136,
     "metadata": {},
     "output_type": "execute_result"
    }
   ],
   "source": [
    "'''7. Write a program to calculate the factorial of a given number.'''\n",
    "#Answer:-\n",
    "def factorial(num):\n",
    "    result = 1\n",
    "    for i in range(2, num + 1):\n",
    "        result = result * i\n",
    "    return result\n",
    "        \n",
    "num = 8\n",
    "factorial(num)"
   ]
  },
  {
   "cell_type": "code",
   "execution_count": 137,
   "id": "5cca807a-d17d-4009-897a-a3d6ffa22929",
   "metadata": {},
   "outputs": [
    {
     "data": {
      "text/plain": [
       "True"
      ]
     },
     "execution_count": 137,
     "metadata": {},
     "output_type": "execute_result"
    }
   ],
   "source": [
    "'''8. Implement a function to check if a given number is prime.'''\n",
    "#Answer:-\n",
    "def prime(num):\n",
    "    if num <= 1:\n",
    "        return False\n",
    "\n",
    "    for i in range(2, int(num**0.5) + 1):\n",
    "        if num % i == 0:\n",
    "            return False\n",
    "\n",
    "    return True\n",
    "\n",
    "num = 37\n",
    "prime(num)"
   ]
  },
  {
   "cell_type": "code",
   "execution_count": 138,
   "id": "c61f791c-a48c-4b3c-b055-b37b7cc769b4",
   "metadata": {},
   "outputs": [
    {
     "data": {
      "text/plain": [
       "[0, 4, 4, 4, 5, 6, 7, 8, 8, 9]"
      ]
     },
     "execution_count": 138,
     "metadata": {},
     "output_type": "execute_result"
    }
   ],
   "source": [
    "'9. Write a Python program to sort a list of integers in ascending order.'\n",
    "#Answer:-\n",
    "def ascending(lst):\n",
    "    if type(lst)== list:\n",
    "        lst.sort()\n",
    "        return lst    \n",
    "    else:\n",
    "        raise Exception(\"Please enter a list\")\n",
    "\n",
    "\n",
    "lst = [6,7,5,8,4,8,4,9,0,4]\n",
    "ascending(lst)"
   ]
  },
  {
   "cell_type": "code",
   "execution_count": 139,
   "id": "d5762108-dc28-45f4-9236-0d28bcf1cf46",
   "metadata": {},
   "outputs": [
    {
     "data": {
      "text/plain": [
       "39"
      ]
     },
     "execution_count": 139,
     "metadata": {},
     "output_type": "execute_result"
    }
   ],
   "source": [
    "'10. Implement a function to find the sum of all numbers in a list.'\n",
    "#Answer:-\n",
    "def summation(lst):\n",
    "    sums = 0\n",
    "    if type(lst)==list:\n",
    "        for i in lst:\n",
    "            sums = i+sums\n",
    "            \n",
    "        return sums\n",
    "    else:\n",
    "        raise Exception(\"Plese enter a list\")\n",
    "        \n",
    "lst = [2,3,4,5,6,7,3,9] \n",
    "summation(lst)"
   ]
  },
  {
   "cell_type": "code",
   "execution_count": 140,
   "id": "a72d0949-4074-4d58-89c3-f0f245dfa650",
   "metadata": {},
   "outputs": [
    {
     "data": {
      "text/plain": [
       "[4, 5, 6, 7, 9]"
      ]
     },
     "execution_count": 140,
     "metadata": {},
     "output_type": "execute_result"
    }
   ],
   "source": [
    "'11. Write a program to find the common elements between two lists.'\n",
    "#Answer:-\n",
    "def common(lst1, lst2):\n",
    "    com_lst = []\n",
    "    if type(lst1) and type(lst2)==list:\n",
    "        for i in lst1:\n",
    "            if i in lst2:\n",
    "                com_lst.append(i)\n",
    "        return com_lst\n",
    "    \n",
    "    else:\n",
    "        raise Exception(\"Please enter lists\")\n",
    "        \n",
    "lst1= [2,3,4,5,6,7,3,9]\n",
    "lst2= [6,7,5,8,4,8,4,9,0,4]\n",
    "common(lst1,lst2)"
   ]
  },
  {
   "cell_type": "code",
   "execution_count": 141,
   "id": "42576cdd-844f-4b88-8a1f-dadc82a9e5d8",
   "metadata": {},
   "outputs": [
    {
     "data": {
      "text/plain": [
       "True"
      ]
     },
     "execution_count": 141,
     "metadata": {},
     "output_type": "execute_result"
    }
   ],
   "source": [
    "'''12. Implement a function to check if a given string is an anagram of another string.'''\n",
    "#Answer:-\n",
    "def anagram(str1, str2):\n",
    "    if type(str1)==str and type(str2)==str:\n",
    "            str1 =list(str1.lower())\n",
    "            str2 =list(str2.lower()) \n",
    "            if str1.sort() == str2.sort():\n",
    "                return True\n",
    "            else:\n",
    "                return False\n",
    "    else:\n",
    "         raise Exception(\"Please enter strings\")\n",
    "        \n",
    "str1 = \"Fired\"\n",
    "str2 = \"Fried\"\n",
    "anagram(str1,str2)"
   ]
  },
  {
   "cell_type": "code",
   "execution_count": 142,
   "id": "d7e926a7-b455-444c-ab30-5433f0964c7a",
   "metadata": {},
   "outputs": [
    {
     "name": "stdout",
     "output_type": "stream",
     "text": [
      "abc\n",
      "acb\n",
      "bac\n",
      "bca\n",
      "cab\n",
      "cba\n"
     ]
    }
   ],
   "source": [
    "'13. Write a Python program to generate all permutations of a given string.'\n",
    "#Answer:-\n",
    "from itertools import permutations\n",
    "def permutation(string):\n",
    "    perms = permutations(string)\n",
    "    for perm in perms:\n",
    "        print(''.join(perm))\n",
    "\n",
    "\n",
    "word = \"abc\"\n",
    "permutation(word)"
   ]
  },
  {
   "cell_type": "code",
   "execution_count": 143,
   "id": "cfe6bd38-add8-4ade-90ee-2295fe95b854",
   "metadata": {},
   "outputs": [
    {
     "data": {
      "text/plain": [
       "[0, 1, 1, 2, 3, 5, 8, 13, 21, 34, 55, 89, 144, 233, 377]"
      ]
     },
     "execution_count": 143,
     "metadata": {},
     "output_type": "execute_result"
    }
   ],
   "source": [
    "'14. Implement a function to calculate the Fibonacci sequence up to a given number of terms.'\n",
    "#Answer:-\n",
    "def fibonacci(n):\n",
    "    seq = [0, 1]\n",
    "    while len(seq) < n:\n",
    "        next_number = seq[-1] + seq[-2]\n",
    "        seq.append(next_number)\n",
    "\n",
    "    return seq\n",
    "\n",
    "\n",
    "n = 15\n",
    "fibonacci(n)"
   ]
  },
  {
   "cell_type": "code",
   "execution_count": 144,
   "id": "5ff680cb-dece-4c21-ab6e-9a8eaa3927da",
   "metadata": {},
   "outputs": [
    {
     "data": {
      "text/plain": [
       "6"
      ]
     },
     "execution_count": 144,
     "metadata": {},
     "output_type": "execute_result"
    }
   ],
   "source": [
    "'15. Write a program to find the median of a list of numbers.'\n",
    "#Answer:-\n",
    "def median(numbers):\n",
    "    sort_numbers = sorted(numbers)\n",
    "    le = len(sort_numbers)\n",
    "\n",
    "    if le % 2 == 1:\n",
    "        median = sort_numbers[le // 2]\n",
    "    else:\n",
    "        mid_right = le // 2\n",
    "        mid_left = mid_right - 1\n",
    "        median = (sort_numbers[mid_left] + sort_numbers[mid_right]) // 2\n",
    "\n",
    "    return median\n",
    "\n",
    "\n",
    "lst = [5, 2, 9, 1, 7, 8]\n",
    "median(lst)\n",
    "    "
   ]
  },
  {
   "cell_type": "code",
   "execution_count": 145,
   "id": "faf4ccd3-eab9-48cf-8753-b5ba573c43d5",
   "metadata": {},
   "outputs": [
    {
     "data": {
      "text/plain": [
       "True"
      ]
     },
     "execution_count": 145,
     "metadata": {},
     "output_type": "execute_result"
    }
   ],
   "source": [
    "'16. Implement a function to check if a given list is sorted in non-decreasing order.'\n",
    "#Answer:-\n",
    "def sorted_(numbers):\n",
    "    for i in range(len(numbers) - 1):\n",
    "        if numbers[i] > numbers[i + 1]:\n",
    "            return False\n",
    "    return True\n",
    "\n",
    "\n",
    "lst = [1, 2, 3, 4, 5]\n",
    "sorted_(lst)"
   ]
  },
  {
   "cell_type": "code",
   "execution_count": 146,
   "id": "9c050900-6970-499b-a446-9ccfac9e3aa2",
   "metadata": {},
   "outputs": [
    {
     "data": {
      "text/plain": [
       "[4, 5, 6, 7, 9]"
      ]
     },
     "execution_count": 146,
     "metadata": {},
     "output_type": "execute_result"
    }
   ],
   "source": [
    "'17. Write a Python program to find the intersection of two lists.'\n",
    "#Answer:-\n",
    "def intersection(lst1, lst2):\n",
    "    intersection = list(set(lst1) & set(lst2))\n",
    "    return intersection\n",
    "\n",
    "\n",
    "lst1= [2,3,4,5,6,7,3,9]\n",
    "lst2= [6,7,5,8,4,8,4,9,0,4]\n",
    "intersection(lst1, lst2)"
   ]
  },
  {
   "cell_type": "code",
   "execution_count": 147,
   "id": "3fbce946-de17-40e1-8f16-26d5bb9de034",
   "metadata": {},
   "outputs": [
    {
     "data": {
      "text/plain": [
       "55"
      ]
     },
     "execution_count": 147,
     "metadata": {},
     "output_type": "execute_result"
    }
   ],
   "source": [
    "'18. Implement a function to find the maximum subarray sum in a given list.'\n",
    "#Answer:-\n",
    "def maxi_sum(arr):\n",
    "    max_sum = arr[0]\n",
    "    current_sum = arr[0]\n",
    "\n",
    "    for i in range(1, len(arr)):\n",
    "        current_sum = max(arr[i], current_sum + arr[i])\n",
    "        max_sum = max(max_sum, current_sum)\n",
    "\n",
    "    return max_sum\n",
    "\n",
    "\n",
    "lst = [6,7,5,8,4,8,4,9,0,4]\n",
    "maxi_sum(lst)"
   ]
  },
  {
   "cell_type": "code",
   "execution_count": 148,
   "id": "678f1b7f-bfab-44f3-8736-27cd91fdbef6",
   "metadata": {},
   "outputs": [
    {
     "data": {
      "text/plain": [
       "'Cdng s fn'"
      ]
     },
     "execution_count": 148,
     "metadata": {},
     "output_type": "execute_result"
    }
   ],
   "source": [
    "'19. Write a program to remove all vowels from a given string.'\n",
    "#Answer:-\n",
    "def remove_vowels(string):\n",
    "    vowels = \"aeiouAEIOU\"\n",
    "    return \"\".join(alpha for alpha in string if alpha not in vowels)\n",
    "\n",
    "\n",
    "string = \"Coding is fun\"\n",
    "remove_vowels(string)"
   ]
  },
  {
   "cell_type": "code",
   "execution_count": 149,
   "id": "4a143f74-c2d8-4c5f-ae17-03f4070f4508",
   "metadata": {},
   "outputs": [
    {
     "data": {
      "text/plain": [
       "'nuf si gnidoC'"
      ]
     },
     "execution_count": 149,
     "metadata": {},
     "output_type": "execute_result"
    }
   ],
   "source": [
    "'20. Implement a function to reverse the order of words in a given sentence.'\n",
    "#Answer:-\n",
    "def reverse_sen(string):\n",
    "    if type(string) == str:\n",
    "        \n",
    "        return string[::-1]\n",
    "    else:\n",
    "        raise Exception(\"Please enter string\")\n",
    "    \n",
    "string = 'Coding is fun'\n",
    "reverse_sen(string)"
   ]
  },
  {
   "cell_type": "code",
   "execution_count": 150,
   "id": "9d63e3ad-cecb-4bc7-8057-af94d1c6434e",
   "metadata": {},
   "outputs": [
    {
     "data": {
      "text/plain": [
       "True"
      ]
     },
     "execution_count": 150,
     "metadata": {},
     "output_type": "execute_result"
    }
   ],
   "source": [
    "'21. Write a Python program to check if two strings are anagrams of each other.'\n",
    "#Answer:-\n",
    "def anagram(str1, str2):\n",
    "    if type(str1)==str and type(str2)==str:\n",
    "            str1 =list(str1.lower())\n",
    "            str2 =list(str2.lower()) \n",
    "            if str1.sort() == str2.sort():\n",
    "                return True\n",
    "            else:\n",
    "                return False\n",
    "    else:\n",
    "         raise Exception(\"Please enter strings\")\n",
    "        \n",
    "str1 = \"Fired\"\n",
    "str2 = \"Fried\"\n",
    "anagram(str1,str2)"
   ]
  },
  {
   "cell_type": "code",
   "execution_count": 151,
   "id": "28026d13-4b3a-4ef2-8530-2a4dd890edaf",
   "metadata": {},
   "outputs": [
    {
     "data": {
      "text/plain": [
       "[',', 'e', 'a', 'z', 'f', 'd', 'g']"
      ]
     },
     "execution_count": 151,
     "metadata": {},
     "output_type": "execute_result"
    }
   ],
   "source": [
    "'22. Implement a function to find the first non-repeating character in a string.'\n",
    "#Answer:-\n",
    "def non_rep_char(string):\n",
    "    if type(string)== str:\n",
    "        return list(set(string))\n",
    "    else:\n",
    "        raise Exception(\"Please enter string\")\n",
    "        \n",
    "string = \"a,a,d,d,e,f,f,f,z,z,g,g,g\"\n",
    "non_rep_char(string)"
   ]
  },
  {
   "cell_type": "code",
   "execution_count": 152,
   "id": "71795a72-fdc6-4299-85dc-b191df7fa32a",
   "metadata": {},
   "outputs": [
    {
     "data": {
      "text/plain": [
       "[2, 2, 19]"
      ]
     },
     "execution_count": 152,
     "metadata": {},
     "output_type": "execute_result"
    }
   ],
   "source": [
    "'23. Write a program to find the prime factors of a given number.'\n",
    "#Answer:-\n",
    "def prime_factors(num):\n",
    "    prime_factors = []\n",
    "    div = 2\n",
    "\n",
    "    while div <= num:\n",
    "        if num % div == 0:\n",
    "            prime_factors.append(div)\n",
    "            num = num / div\n",
    "        else:\n",
    "            div += 1\n",
    "\n",
    "    return prime_factors\n",
    "\n",
    "\n",
    "num = 76\n",
    "prime_factors(num)\n",
    "\n"
   ]
  },
  {
   "cell_type": "code",
   "execution_count": 153,
   "id": "7946cbf1-1419-488b-9c7a-4af6604312d3",
   "metadata": {},
   "outputs": [
    {
     "data": {
      "text/plain": [
       "True"
      ]
     },
     "execution_count": 153,
     "metadata": {},
     "output_type": "execute_result"
    }
   ],
   "source": [
    "'24. Implement a function to check if a given number is a power of two.'\n",
    "#Answer:-\n",
    "def power_of_two(num):\n",
    "    if num <= 0:\n",
    "        return False\n",
    "    return (num & (num - 1)) == 0\n",
    "\n",
    "\n",
    "num = 16\n",
    "power_of_two(num)"
   ]
  },
  {
   "cell_type": "code",
   "execution_count": 154,
   "id": "07379ceb-31c6-4e1b-8b64-f6cfc7a71919",
   "metadata": {},
   "outputs": [
    {
     "data": {
      "text/plain": [
       "[0, 2, 3, 3, 4, 4, 4, 4, 5, 5, 6, 6, 7, 7, 8, 8, 9, 9]"
      ]
     },
     "execution_count": 154,
     "metadata": {},
     "output_type": "execute_result"
    }
   ],
   "source": [
    "'25. Write a Python program to merge two sorted lists into a single sorted list.'\n",
    "#Answer:-\n",
    "def sorted_lst(lst1, lst2):\n",
    "    if type(lst1)==list and type(lst2)==list:\n",
    "        lst1 = sorted(lst1)\n",
    "        lst2 = sorted(lst2)\n",
    "        lst = lst1 + lst2\n",
    "        lst = sorted(lst)\n",
    "        return lst\n",
    "    else:\n",
    "        raise Exception(\"Plese enter lists\")\n",
    "        \n",
    "lst1 = [6,7,5,8,4,8,4,9,0,4]\n",
    "lst2 = [2,3,4,5,6,7,3,9]\n",
    "sorted_lst(lst1,lst2)        "
   ]
  },
  {
   "cell_type": "code",
   "execution_count": 155,
   "id": "35f5a990-e919-4bfe-8b16-c8181345ea8a",
   "metadata": {},
   "outputs": [
    {
     "data": {
      "text/plain": [
       "[2]"
      ]
     },
     "execution_count": 155,
     "metadata": {},
     "output_type": "execute_result"
    }
   ],
   "source": [
    "'26. Implement a function to find the mode of a list of numbers.'\n",
    "#Answer:-\n",
    "from collections import Counter\n",
    "\n",
    "def mode(lst):\n",
    "    if type(lst)==list:\n",
    "        \n",
    "        counter = Counter(lst)\n",
    "        max_count = max(counter.values())\n",
    "        mode = [num for num, count in counter.items() if count == max_count]\n",
    "\n",
    "        return mode\n",
    "    else:\n",
    "        raise Exception(\"Please enter a list\")\n",
    "\n",
    "        \n",
    "lst = [1, 2, 3, 2, 4, 1, 2, 2, 3, 4, 5]\n",
    "mode(lst)"
   ]
  },
  {
   "cell_type": "code",
   "execution_count": 156,
   "id": "942a6831-0892-4ad1-b2d1-9834c859af54",
   "metadata": {},
   "outputs": [
    {
     "data": {
      "text/plain": [
       "25"
      ]
     },
     "execution_count": 156,
     "metadata": {},
     "output_type": "execute_result"
    }
   ],
   "source": [
    "'27. Write a program to find the greatest common divisor (GCD) of two numbers.'\n",
    "#Answer:-\n",
    "def gcd(a, b):\n",
    "    while b != 0:\n",
    "        a, b = b, a % b\n",
    "    return a\n",
    "\n",
    "\n",
    "num1 = 25\n",
    "num2 = 50\n",
    "gcd(num1, num2)"
   ]
  },
  {
   "cell_type": "code",
   "execution_count": 157,
   "id": "020d77b6-06a3-476f-956c-8bfe3a406524",
   "metadata": {},
   "outputs": [
    {
     "data": {
      "text/plain": [
       "5.0"
      ]
     },
     "execution_count": 157,
     "metadata": {},
     "output_type": "execute_result"
    }
   ],
   "source": [
    "'28. Implement a function to calculate the square root of a given number.'\n",
    "#Answer:-\n",
    "def sqrt(num):\n",
    "    root = num**0.5\n",
    "    return root\n",
    "\n",
    "num = 25\n",
    "sqrt(num)"
   ]
  },
  {
   "cell_type": "code",
   "execution_count": 158,
   "id": "92cfe4e7-0feb-4eff-a57c-286366a9b47e",
   "metadata": {},
   "outputs": [
    {
     "data": {
      "text/plain": [
       "True"
      ]
     },
     "execution_count": 158,
     "metadata": {},
     "output_type": "execute_result"
    }
   ],
   "source": [
    "'29. Write a Python program to check if a given string is a valid palindrome ignoring non-alphanumeric characters.'\n",
    "#Answer:-\n",
    "\n",
    "\n",
    "def is_palindrome(string):\n",
    "    alphanumeric_string = ''.join(char.lower() for char in string if char.isalnum())\n",
    "    return alphanumeric_string == alphanumeric_string[::-1]\n",
    "\n",
    "\n",
    "string = \"Able was I, ere I saw Elba\"\n",
    "is_palindrome(string)"
   ]
  },
  {
   "cell_type": "code",
   "execution_count": 159,
   "id": "fcaed0fa-7e9f-4be6-aa90-de5671f75105",
   "metadata": {},
   "outputs": [
    {
     "data": {
      "text/plain": [
       "'30. Implement a function to find the minimum element in a rotated sorted list.'"
      ]
     },
     "execution_count": 159,
     "metadata": {},
     "output_type": "execute_result"
    }
   ],
   "source": [
    "'30. Implement a function to find the minimum element in a rotated sorted list.'\n",
    "#Answer:-\n"
   ]
  },
  {
   "cell_type": "code",
   "execution_count": 160,
   "id": "77b80428-b396-49ff-9f3c-8b2ae2376e4e",
   "metadata": {},
   "outputs": [
    {
     "data": {
      "text/plain": [
       "34"
      ]
     },
     "execution_count": 160,
     "metadata": {},
     "output_type": "execute_result"
    }
   ],
   "source": [
    "'31. Write a program to find the sum of all even numbers in a list.'\n",
    "#Answer:-\n",
    "def sum_even(lst):\n",
    "    even = []\n",
    "    sums = 0\n",
    "    if type(lst)== list:\n",
    "        for i in lst:\n",
    "            if i%2 == 0:\n",
    "                even.append(i)\n",
    "        for i in even:\n",
    "            sums = i + sums\n",
    "            \n",
    "        return sums    \n",
    "    else:\n",
    "        raise Exception(\"Please enter a list\")\n",
    "        \n",
    "lst =[6,7,5,8,4,8,4,9,0,4]\n",
    "sum_even(lst)"
   ]
  },
  {
   "cell_type": "code",
   "execution_count": 161,
   "id": "1eecebf9-2f32-4c8b-8838-4225d81d2370",
   "metadata": {},
   "outputs": [
    {
     "data": {
      "text/plain": [
       "32"
      ]
     },
     "execution_count": 161,
     "metadata": {},
     "output_type": "execute_result"
    }
   ],
   "source": [
    "'32. Implement a function to calculate the power of a number using recursion.'\n",
    "#Answer:-\n",
    "def power(base, exponent):\n",
    "    if exponent == 0:\n",
    "        return 1\n",
    "    elif exponent == 1:\n",
    "        return base\n",
    "    elif exponent % 2 == 0:\n",
    "        half_exponent = exponent // 2\n",
    "        half_power = power(base, half_exponent)\n",
    "        return half_power * half_power\n",
    "    else:\n",
    "        half_exponent = exponent // 2\n",
    "        half_power = power(base, half_exponent)\n",
    "        return half_power * half_power * base\n",
    "\n",
    "\n",
    "base = 2\n",
    "exponent = 5\n",
    "power(base, exponent)"
   ]
  },
  {
   "cell_type": "code",
   "execution_count": 162,
   "id": "b7ff8e73-0985-4c21-8095-6939a8f10cb4",
   "metadata": {},
   "outputs": [
    {
     "data": {
      "text/plain": [
       "[1, 3, 2, 5, 6, 7]"
      ]
     },
     "execution_count": 162,
     "metadata": {},
     "output_type": "execute_result"
    }
   ],
   "source": [
    "'33. Write a Python program to remove duplicates from a list while preserving the order.'\n",
    "#Answer:-\n",
    "def remove_duplicates(lst):\n",
    "    return list(dict.fromkeys(lst))\n",
    "\n",
    "\n",
    "lst = [1, 3, 2, 2, 1, 5, 5, 6, 7, 6]\n",
    "remove_duplicates(lst)\n"
   ]
  },
  {
   "cell_type": "code",
   "execution_count": 163,
   "id": "3e47b7e6-6ea3-4faa-b7f3-3de3022e2f39",
   "metadata": {},
   "outputs": [
    {
     "data": {
      "text/plain": [
       "'fl'"
      ]
     },
     "execution_count": 163,
     "metadata": {},
     "output_type": "execute_result"
    }
   ],
   "source": [
    "'34. Implement a function to find the longest common prefix among a list of strings.'\n",
    "#Answer:-\n",
    "import os\n",
    "\n",
    "def longest_com_prefix(strings):\n",
    "    if not strings:\n",
    "        raise Exception(\"Plese enter String\")\n",
    "\n",
    "    return os.path.commonprefix(strings)\n",
    "\n",
    "\n",
    "strings = [\"flower\", \"flow\", 'flight']\n",
    "longest_com_prefix(strings)\n"
   ]
  },
  {
   "cell_type": "code",
   "execution_count": 164,
   "id": "57dad8e0-0fd3-4e88-8794-e5102572731a",
   "metadata": {},
   "outputs": [
    {
     "data": {
      "text/plain": [
       "True"
      ]
     },
     "execution_count": 164,
     "metadata": {},
     "output_type": "execute_result"
    }
   ],
   "source": [
    "'35. Write a program to check if a given number is a perfect square.'\n",
    "#Answer:-\n",
    "import math\n",
    "\n",
    "def per_sqr(num):\n",
    "    root = math.isqrt(num)\n",
    "    return root * root == num\n",
    "\n",
    "num = 16\n",
    "per_sqr(num)"
   ]
  },
  {
   "cell_type": "code",
   "execution_count": 165,
   "id": "345da6a6-2347-410d-a00c-2edd112da97a",
   "metadata": {},
   "outputs": [
    {
     "data": {
      "text/plain": [
       "120"
      ]
     },
     "execution_count": 165,
     "metadata": {},
     "output_type": "execute_result"
    }
   ],
   "source": [
    "'36. Implement a function to calculate the product of all elements in a list.'\n",
    "#Answer:-\n",
    "def product(lst):\n",
    "    prod = 1\n",
    "    if type(lst)==list:\n",
    "        for i in lst:\n",
    "            prod = i*prod\n",
    "            \n",
    "        return prod\n",
    "    else:\n",
    "        raise Exception(\"Plese enter a list\")\n",
    "        \n",
    "lst = [2,3,4,5] \n",
    "product(lst)"
   ]
  },
  {
   "cell_type": "code",
   "execution_count": 166,
   "id": "76509285-e4a9-4d90-b1bd-dbfef8968a0f",
   "metadata": {},
   "outputs": [
    {
     "data": {
      "text/plain": [
       "'fun is Coding'"
      ]
     },
     "execution_count": 166,
     "metadata": {},
     "output_type": "execute_result"
    }
   ],
   "source": [
    "'37. Write a Python program to reverse the order of words in a sentence while preserving the word order.'\n",
    "#Answer:-\n",
    "def reverse_words(sent):\n",
    "    words = sent.split()\n",
    "    reversed_words = words[::-1]\n",
    "    reversed_sent = ' '.join(reversed_words)\n",
    "    return reversed_sent\n",
    "\n",
    "\n",
    "sent = \"Coding is fun\"\n",
    "reverse_words(sent)"
   ]
  },
  {
   "cell_type": "code",
   "execution_count": 167,
   "id": "fad3f05d-62ec-4116-91d7-4a2865e5d65a",
   "metadata": {},
   "outputs": [
    {
     "name": "stdout",
     "output_type": "stream",
     "text": [
      "4\n"
     ]
    }
   ],
   "source": [
    "'38. Implement a function to find the missing number in a given list of consecutive numbers.'\n",
    "#Answer:-\n",
    "def find_miss_num(nums):\n",
    "    n = len(nums)\n",
    "    total_sum = (n + 1) * (n + 2) // 2\n",
    "    actual_sum = sum(nums)\n",
    "    missing_number = total_sum - actual_sum\n",
    "    return missing_number\n",
    "\n",
    "numbers = [1, 2, 3, 5, 6, 7, 8]\n",
    "result = find_miss_num(numbers)\n",
    "print(result)\n"
   ]
  },
  {
   "cell_type": "code",
   "execution_count": 168,
   "id": "49da9e56-26ae-4a9c-bc56-3a8e855214b9",
   "metadata": {},
   "outputs": [
    {
     "data": {
      "text/plain": [
       "15"
      ]
     },
     "execution_count": 168,
     "metadata": {},
     "output_type": "execute_result"
    }
   ],
   "source": [
    "'39. Write a program to find the sum of digits of a given number.'\n",
    "#Answer:-\n",
    "def sum_of_digits(num):\n",
    "    sum_digits = 0\n",
    "    while num != 0:\n",
    "        digit = num % 10\n",
    "        sum_digits += digit\n",
    "        num //= 10\n",
    "    return sum_digits\n",
    "\n",
    "\n",
    "num = 12345\n",
    "sum_of_digits(num)"
   ]
  },
  {
   "cell_type": "code",
   "execution_count": 169,
   "id": "1a5c6d63-ef78-46aa-b4bb-7512a657be38",
   "metadata": {},
   "outputs": [
    {
     "data": {
      "text/plain": [
       "'Its a palindrome'"
      ]
     },
     "execution_count": 169,
     "metadata": {},
     "output_type": "execute_result"
    }
   ],
   "source": [
    "'40. Implement a function to check if a given string is a valid palindrome considering case sensitivity.'\n",
    "#Answer:-\n",
    "def is_palindrome(string):\n",
    "    if type(string) == str:\n",
    "        string = string.lower()\n",
    "        if string[::-1] == string:\n",
    "            return 'Its a palindrome'\n",
    "        else:\n",
    "            return 'Not a palindrome'\n",
    "        \n",
    "    else:\n",
    "        raise Exception(\"Please enter string\")\n",
    "\n",
    "string = 'Arora'\n",
    "is_palindrome(string)"
   ]
  },
  {
   "cell_type": "code",
   "execution_count": 170,
   "id": "37abf36d-f099-41ef-bc9b-5baf8ac51716",
   "metadata": {},
   "outputs": [
    {
     "data": {
      "text/plain": [
       "6"
      ]
     },
     "execution_count": 170,
     "metadata": {},
     "output_type": "execute_result"
    }
   ],
   "source": [
    "'41. Write a Python program to find the smallest missing positive integer in a list.'\n",
    "#Answer:-\n",
    "def find_smallest_missing_positive(nums):\n",
    "    num_set = set(nums)\n",
    "    smallest_missing = 1\n",
    "    while smallest_missing in num_set:\n",
    "        smallest_missing += 1\n",
    "\n",
    "    return smallest_missing\n",
    "\n",
    "\n",
    "numbers = [3, 5, -1, 1, -6, 2, 4]\n",
    "find_smallest_missing_positive(numbers)\n",
    "\n"
   ]
  },
  {
   "cell_type": "code",
   "execution_count": 171,
   "id": "873c37ed-9908-4f9a-8bf3-456230ed6987",
   "metadata": {},
   "outputs": [
    {
     "data": {
      "text/plain": [
       "'aba'"
      ]
     },
     "execution_count": 171,
     "metadata": {},
     "output_type": "execute_result"
    }
   ],
   "source": [
    "'42. Implement a function to find the longest palindrome substring in a given string.'\n",
    "#Answer:-\n",
    "def longest_palindrome(s):\n",
    "    n = len(s)\n",
    "    longest_length = 0\n",
    "    start = 0\n",
    "    table = [[False] * n for _ in range(n)]\n",
    "    for i in range(n):\n",
    "        table[i][i] = True\n",
    "        longest_length = 1\n",
    "    for i in range(n - 1):\n",
    "        if s[i] == s[i + 1]:\n",
    "            table[i][i + 1] = True\n",
    "            longest_length = 2\n",
    "            start = i\n",
    "    for length in range(3, n + 1):\n",
    "        for i in range(n - length + 1):\n",
    "            j = i + length - 1\n",
    "            if s[i] == s[j] and table[i + 1][j - 1]:\n",
    "                table[i][j] = True\n",
    "                longest_length = length\n",
    "                start = i\n",
    "\n",
    "    return s[start : start + longest_length]\n",
    "\n",
    "\n",
    "string = \"babad\"\n",
    "longest_palindrome(string)"
   ]
  },
  {
   "cell_type": "code",
   "execution_count": 172,
   "id": "16f1f307-09ba-4877-99cc-e1e838dc56f1",
   "metadata": {},
   "outputs": [
    {
     "data": {
      "text/plain": [
       "{1: 2, 2: 4, 4: 3, 5: 2, 3: 2}"
      ]
     },
     "execution_count": 172,
     "metadata": {},
     "output_type": "execute_result"
    }
   ],
   "source": [
    "'43. Write a program to find the number of occurrences of a given element in a list.'\n",
    "#Answer:-\n",
    "def occurence(lst):\n",
    "    if type(lst)== list:\n",
    "        count = {}\n",
    "        for i in lst:\n",
    "            if i in count:\n",
    "                count[i] += 1\n",
    "            else:\n",
    "                count[i] = 1\n",
    "        return count\n",
    "                            \n",
    "    else:\n",
    "        raise Exception(\"Please enter a list\")\n",
    "        \n",
    "lst = [1,2,4,5,1,2,2,3,3,4,4,5,2]\n",
    "occurence(lst)"
   ]
  },
  {
   "cell_type": "code",
   "execution_count": 173,
   "id": "2839d76a-efa5-4509-a015-ade961730c0d",
   "metadata": {},
   "outputs": [
    {
     "data": {
      "text/plain": [
       "True"
      ]
     },
     "execution_count": 173,
     "metadata": {},
     "output_type": "execute_result"
    }
   ],
   "source": [
    "'44. Implement a function to check if a given number is a perfect number.'\n",
    "#Answer:-\n",
    "def perfect_number(number):\n",
    "    if number <= 0:\n",
    "        return False\n",
    "\n",
    "    divisors_sum = 0\n",
    "    for i in range(1, number):\n",
    "        if number % i == 0:\n",
    "            divisors_sum += i\n",
    "\n",
    "    return divisors_sum == number\n",
    "\n",
    "num = 6\n",
    "perfect_number(num)\n"
   ]
  },
  {
   "cell_type": "code",
   "execution_count": 174,
   "id": "742db1e2-140c-4014-ab20-f2b98b9b5bbe",
   "metadata": {},
   "outputs": [
    {
     "data": {
      "text/plain": [
       "'in eurowlacdgbstyp'"
      ]
     },
     "execution_count": 174,
     "metadata": {},
     "output_type": "execute_result"
    }
   ],
   "source": [
    "'45. Write a Python program to remove all duplicates from a string.'\n",
    "#Answer:-\n",
    "def remove_duplicates(string):\n",
    "    char_list = list(string)\n",
    "    unique_chars = []\n",
    "    for char in char_list:\n",
    "        if char not in unique_chars:\n",
    "            unique_chars.append(char)\n",
    "    result = ''.join(unique_chars)\n",
    "    \n",
    "    return result\n",
    "\n",
    "\n",
    "string = \"in ineuron we learn coding in best way possible\"\n",
    "remove_duplicates(string)\n",
    "\n"
   ]
  },
  {
   "cell_type": "code",
   "execution_count": 175,
   "id": "a46c26b6-1e1f-4d38-9eb8-b18606cd66a5",
   "metadata": {},
   "outputs": [
    {
     "data": {
      "text/plain": [
       "2"
      ]
     },
     "execution_count": 175,
     "metadata": {},
     "output_type": "execute_result"
    }
   ],
   "source": [
    "'46. Implement a function to find the first missing positive'\n",
    "#Answer:-\n",
    "def find_missing_positive(nums):\n",
    "    n = len(nums)\n",
    "    for i in range(n):\n",
    "        if nums[i] <= 0 or nums[i] > n:\n",
    "            nums[i] = n + 1\n",
    "    for i in range(n):\n",
    "        num = abs(nums[i])\n",
    "        if num <= n:\n",
    "            nums[num - 1] = -abs(nums[num - 1])\n",
    "    for i in range(n):\n",
    "        if nums[i] > 0:\n",
    "            return i + 1\n",
    "    return n + 1\n",
    "\n",
    "\n",
    "nums = [3, 4, -1, 1]\n",
    "find_missing_positive(nums)"
   ]
  }
 ],
 "metadata": {
  "kernelspec": {
   "display_name": "Python 3 (ipykernel)",
   "language": "python",
   "name": "python3"
  },
  "language_info": {
   "codemirror_mode": {
    "name": "ipython",
    "version": 3
   },
   "file_extension": ".py",
   "mimetype": "text/x-python",
   "name": "python",
   "nbconvert_exporter": "python",
   "pygments_lexer": "ipython3",
   "version": "3.10.6"
  }
 },
 "nbformat": 4,
 "nbformat_minor": 5
}
