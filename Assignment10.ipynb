{
 "cells": [
  {
   "cell_type": "raw",
   "id": "55fae990-30bc-458a-9615-4c97c210c65f",
   "metadata": {},
   "source": [
    "1. How do you distinguish between shutil.copy() and shutil.copytree()?\n",
    "\n",
    "Answer:- shutil.copy() is used to copy single file to the destination.\n",
    "shutil.copytree() is used to copy a whole directory with all the content in it to the destination."
   ]
  },
  {
   "cell_type": "raw",
   "id": "71a82613-f26c-4418-bc40-46625153a43a",
   "metadata": {},
   "source": [
    "2. What function is used to rename files??\n",
    "\n",
    "Answer:- shutil.move() function is used to change the name of file in python although it's primary purpose is to move file from the source location to destination location but the source and destination folder are same then it changes the name."
   ]
  },
  {
   "cell_type": "raw",
   "id": "45e0e8ea-4705-4688-94d8-4019d02e3ddf",
   "metadata": {},
   "source": [
    "3. What is the difference between the delete functions in the send2trash and shutil modules?\n",
    "\n",
    "Answer:- send2trash.send2trash() function in send2trash deletes the file but it moves it to the recycle bin, where as shutil.rmtree() in shutil deletes the file permanently and it's irrecoverable.\n"
   ]
  },
  {
   "cell_type": "raw",
   "id": "bb75b982-84db-42fb-9920-50714e6608d9",
   "metadata": {},
   "source": [
    "4.ZipFile objects have a close() method just like File objects’ close() method. What ZipFile method is equivalent to File objects’ open() method?\n",
    "\n",
    "Answer:- zipfile.zipfile() function is equivalent to file objects open() method."
   ]
  },
  {
   "cell_type": "code",
   "execution_count": null,
   "id": "cb1421d3-4b6e-472c-bf50-0040a742b12d",
   "metadata": {},
   "outputs": [],
   "source": [
    "'''5. Create a programme that searches a folder tree for files with a certain file \n",
    "extension (such as .pdf or .jpg). Copy these files from whatever location they\n",
    "are in to a new folder.'''\n",
    "\n",
    "# Answer:-\n",
    "\n",
    "import os\n",
    "import shutil\n",
    "\n",
    "def search_and_copy_files(source_folder, destination_folder, file_extension):\n",
    "    if not os.path.exists(destination_folder):\n",
    "        os.makedirs(destination_folder)\n",
    "    for root, dirs, files in os.walk(source_folder):\n",
    "        for file in files:\n",
    "            if file.endswith(file_extension):\n",
    "                source_path = os.path.join(root, file)\n",
    "                destination_path = os.path.join(destination_folder, file)\n",
    "                # Copy the file to the destination folder\n",
    "                shutil.copy2(source_path, destination_path)\n",
    "                print(f\"Copied: {source_path} --> {destination_path}\")\n",
    "                \n",
    "# Call the function to search and copy the files\n",
    "search_and_copy_files(source_folder, destination_folder, file_extension)"
   ]
  },
  {
   "cell_type": "code",
   "execution_count": null,
   "id": "fbaf703f-dbd8-4c93-9707-86dadaa32ef3",
   "metadata": {},
   "outputs": [],
   "source": []
  }
 ],
 "metadata": {
  "kernelspec": {
   "display_name": "Python 3 (ipykernel)",
   "language": "python",
   "name": "python3"
  },
  "language_info": {
   "codemirror_mode": {
    "name": "ipython",
    "version": 3
   },
   "file_extension": ".py",
   "mimetype": "text/x-python",
   "name": "python",
   "nbconvert_exporter": "python",
   "pygments_lexer": "ipython3",
   "version": "3.10.6"
  }
 },
 "nbformat": 4,
 "nbformat_minor": 5
}
