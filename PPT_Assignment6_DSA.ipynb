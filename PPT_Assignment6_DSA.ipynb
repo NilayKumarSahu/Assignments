{
 "cells": [
  {
   "cell_type": "code",
   "execution_count": 6,
   "id": "9c45130c-f9d8-4a86-83bb-2a89aeb9078f",
   "metadata": {},
   "outputs": [
    {
     "name": "stdout",
     "output_type": "stream",
     "text": [
      "[0, 4, 1, 3, 2]\n"
     ]
    }
   ],
   "source": [
    "'''Question 1\n",
    "\n",
    "A permutation perm of n + 1 integers of all the integers in the range [0, n] can be represented as a string s of length n where:\n",
    "\n",
    "- s[i] == 'I' if perm[i] < perm[i + 1], and\n",
    "- s[i] == 'D' if perm[i] > perm[i + 1].\n",
    "\n",
    "Given a string s, reconstruct the permutation perm and return it. If there are multiple valid permutations perm, return **any of them**.\n",
    "\n",
    "**Example 1:**\n",
    "\n",
    "**Input:** s = \"IDID\"\n",
    "\n",
    "**Output:**\n",
    "\n",
    "[0,4,1,3,2]'''\n",
    "\n",
    "#Answer:-\n",
    "def permutation(s):\n",
    "    perm = []\n",
    "    low, high = 0, len(s)\n",
    "\n",
    "    for ch in s:\n",
    "        if ch == 'I':\n",
    "            perm.append(low)\n",
    "            low += 1\n",
    "        elif ch == 'D':\n",
    "            perm.append(high)\n",
    "            high -= 1\n",
    "\n",
    "    perm.append(low)\n",
    "\n",
    "    return perm\n",
    "\n",
    "s = \"IDID\"\n",
    "print(permutation(s))\n"
   ]
  },
  {
   "cell_type": "code",
   "execution_count": 10,
   "id": "f2cf6b02-e115-481c-add8-18b64ef7bc42",
   "metadata": {},
   "outputs": [
    {
     "name": "stdout",
     "output_type": "stream",
     "text": [
      "True\n"
     ]
    }
   ],
   "source": [
    "'''Question 2\n",
    "\n",
    "You are given an m x n integer matrix matrix with the following two properties:\n",
    "\n",
    "- Each row is sorted in non-decreasing order.\n",
    "- The first integer of each row is greater than the last integer of the previous row.\n",
    "\n",
    "Given an integer target, return true *if* target *is in* matrix *or* false *otherwise*.\n",
    "\n",
    "You must write a solution in O(log(m * n)) time complexity.\n",
    "\n",
    "**Example 1:**\n",
    "\n",
    "\n",
    "**Input:** matrix = [[1,3,5,7],[10,11,16,20],[23,30,34,60]], target = 3\n",
    "\n",
    "**Output:** true'''\n",
    "\n",
    "#Answer:-\n",
    "def smatrix(matrix, target):\n",
    "    m = len(matrix)\n",
    "    n = len(matrix[0])\n",
    "    low = 0\n",
    "    high = m * n - 1\n",
    "\n",
    "    while low <= high:\n",
    "        mid = (low + high) // 2\n",
    "        row = mid // n\n",
    "        col = mid % n\n",
    "\n",
    "        if matrix[row][col] == target:\n",
    "            return True\n",
    "        elif matrix[row][col] < target:\n",
    "            low = mid + 1\n",
    "        else:\n",
    "            high = mid - 1\n",
    "\n",
    "    return False\n",
    "\n",
    "matrix = [[1, 3, 5, 7], [10, 11, 16, 20], [23, 30, 34, 60]]\n",
    "target = 3\n",
    "print(smatrix(matrix, target))\n"
   ]
  },
  {
   "cell_type": "code",
   "execution_count": 9,
   "id": "2d21941e-d99e-4558-a3af-56723b442b73",
   "metadata": {},
   "outputs": [
    {
     "name": "stdout",
     "output_type": "stream",
     "text": [
      "False\n"
     ]
    }
   ],
   "source": [
    "'''Question 3\n",
    "\n",
    "Given an array of integers arr, return *true if and only if it is a valid mountain array*.\n",
    "\n",
    "Recall that arr is a mountain array if and only if:\n",
    "\n",
    "- arr.length >= 3\n",
    "- There exists some i with 0 < i < arr.length - 1 such that:\n",
    "    - arr[0] < arr[1] < ... < arr[i - 1] < arr[i]\n",
    "    - arr[i] > arr[i + 1] > ... > arr[arr.length - 1]\n",
    "\n",
    "\n",
    "**Example 1:**\n",
    "\n",
    "**Input:** arr = [2,1]\n",
    "\n",
    "**Output:**\n",
    "\n",
    "false'''\n",
    "\n",
    "#Answer:-\n",
    "def validarr(arr):\n",
    "    n = len(arr)\n",
    "    if n < 3:\n",
    "        return False\n",
    "\n",
    "    l = 0\n",
    "    r = n - 1\n",
    "\n",
    "    while l < r:\n",
    "        if arr[left] >= arr[l + 1] or arr[r] >= arr[r - 1]:\n",
    "            return False\n",
    "\n",
    "        l += 1\n",
    "        r -= 1\n",
    "\n",
    "    return l != r\n",
    "\n",
    "arr = [2, 1]\n",
    "print(validarr(arr))\n"
   ]
  },
  {
   "cell_type": "code",
   "execution_count": 12,
   "id": "693102ae-45a2-4a48-acae-8705a82d4645",
   "metadata": {},
   "outputs": [
    {
     "name": "stdout",
     "output_type": "stream",
     "text": [
      "2\n"
     ]
    }
   ],
   "source": [
    "'''Question 4\n",
    "\n",
    "Given a binary array nums, return *the maximum length of a contiguous subarray with an equal number of* 0 *and* 1.\n",
    "\n",
    "**Example 1:**\n",
    "\n",
    "**Input:** nums = [0,1]\n",
    "\n",
    "**Output:** 2\n",
    "\n",
    "**Explanation:**\n",
    "\n",
    "[0, 1] is the longest contiguous subarray with an equal number of 0 and 1.'''\n",
    "\n",
    "#Answer:-\n",
    "def maxlength(nums):\n",
    "    max_length = 0\n",
    "    count = 0\n",
    "    sum_map = {0: -1}\n",
    "\n",
    "    for i, num in enumerate(nums):\n",
    "        count += 1 if num == 1 else -1\n",
    "\n",
    "        if count in sum_map:\n",
    "            max_length = max(max_length, i - sum_map[count])\n",
    "        else:\n",
    "            sum_map[count] = i\n",
    "\n",
    "    return max_length\n",
    "\n",
    "nums = [0, 1]\n",
    "print(maxlength(nums))\n"
   ]
  },
  {
   "cell_type": "code",
   "execution_count": 13,
   "id": "887b6e5a-8a9d-4aeb-a939-9cf971358b2b",
   "metadata": {},
   "outputs": [
    {
     "name": "stdout",
     "output_type": "stream",
     "text": [
      "40\n"
     ]
    }
   ],
   "source": [
    "'''Question 5\n",
    "\n",
    "The **product sum** of two equal-length arrays a and b is equal to the sum of a[i] * b[i] for all 0 <= i < a.length (**0-indexed**).\n",
    "\n",
    "- For example, if a = [1,2,3,4] and b = [5,2,3,1], the **product sum** would be 1*5 + 2*2 + 3*3 + 4*1 = 22.\n",
    "\n",
    "Given two arrays nums1 and nums2 of length n, return *the **minimum product sum** if you are allowed to **rearrange** the **order** of the elements in* nums1.\n",
    "\n",
    "**Example 1:**\n",
    "\n",
    "**Input:** nums1 = [5,3,4,2], nums2 = [4,2,2,5]\n",
    "\n",
    "**Output:** 40\n",
    "\n",
    "**Explanation:**\n",
    "\n",
    "We can rearrange nums1 to become [3,5,4,2]. The product sum of [3,5,4,2] and [4,2,2,5] is 3*4 + 5*2 + 4*2 + 2*5 = 40.'''\n",
    "\n",
    "#Answer:-\n",
    "def min_product_sum(nums1, nums2):\n",
    "    nums1.sort()\n",
    "    nums2.sort(reverse=True)\n",
    "    min_product_sum = 0\n",
    "\n",
    "    for num1, num2 in zip(nums1, nums2):\n",
    "        min_product_sum += num1 * num2\n",
    "\n",
    "    return min_product_sum\n",
    "\n",
    "nums1 = [5, 3, 4, 2]\n",
    "nums2 = [4, 2, 2, 5]\n",
    "print(min_product_sum(nums1, nums2))\n"
   ]
  },
  {
   "cell_type": "code",
   "execution_count": 15,
   "id": "6646976c-020f-460a-8ef9-722a2f035f08",
   "metadata": {},
   "outputs": [
    {
     "name": "stdout",
     "output_type": "stream",
     "text": [
      "[1, 3, 4]\n"
     ]
    }
   ],
   "source": [
    "'''Question 6\n",
    "\n",
    "\n",
    "**Example 1:**\n",
    "\n",
    "**Input:** changed = [1,3,4,2,6,8]\n",
    "\n",
    "**Output:** [1,3,4]\n",
    "\n",
    "**Explanation:** One possible original array could be [1,3,4]:\n",
    "\n",
    "- Twice the value of 1 is 1 * 2 = 2.\n",
    "- Twice the value of 3 is 3 * 2 = 6.\n",
    "- Twice the value of 4 is 4 * 2 = 8.\n",
    "\n",
    "Other original arrays could be [4,3,1] or [3,1,4].'''\n",
    "\n",
    "#Answer:-\n",
    "def originalarray(changed):\n",
    "    if len(changed) % 2 != 0: \n",
    "        return []\n",
    "\n",
    "    frequency = {}\n",
    "    for num in changed:\n",
    "        frequency[num] = frequency.get(num, 0) + 1\n",
    "\n",
    "    original = []\n",
    "    for num in sorted(changed):\n",
    "        if frequency.get(num, 0) == 0:\n",
    "            continue\n",
    "\n",
    "        if frequency.get(2 * num, 0) == 0:\n",
    "            return []\n",
    "\n",
    "        original.append(num)\n",
    "        frequency[num] -= 1\n",
    "        frequency[2 * num] -= 1\n",
    "\n",
    "    return original\n",
    "\n",
    "changed = [1, 3, 4, 2, 6, 8]\n",
    "print(originalarray(changed))\n"
   ]
  },
  {
   "cell_type": "code",
   "execution_count": 16,
   "id": "fb28a910-63b9-4666-8b8d-2d48f3d219f4",
   "metadata": {},
   "outputs": [
    {
     "name": "stdout",
     "output_type": "stream",
     "text": [
      "[[1, 2, 3], [8, 9, 4], [7, 6, 5]]\n"
     ]
    }
   ],
   "source": [
    "'''Question 7\n",
    "\n",
    "Given a positive integer n, generate an n x n matrix filled with elements from 1 to n2 in spiral order.\n",
    "\n",
    "**Example 1:**\n",
    "\n",
    "\n",
    "**Input:** n = 3\n",
    "\n",
    "**Output:** [[1,2,3],[8,9,4],[7,6,5]]'''\n",
    "\n",
    "\n",
    "#Answer:-\n",
    "def generatematrix(n):\n",
    "    matrix = [[0] * n for _ in range(n)]\n",
    "    rowStart, rowEnd = 0, n - 1\n",
    "    colStart, colEnd = 0, n - 1\n",
    "    num = 1\n",
    "    direction = 0\n",
    "\n",
    "    while num <= n * n:\n",
    "        if direction == 0:  # Move right\n",
    "            for j in range(colStart, colEnd + 1):\n",
    "                matrix[rowStart][j] = num\n",
    "                num += 1\n",
    "            rowStart += 1\n",
    "\n",
    "        elif direction == 1:  # Move down\n",
    "            for i in range(rowStart, rowEnd + 1):\n",
    "                matrix[i][colEnd] = num\n",
    "                num += 1\n",
    "            colEnd -= 1\n",
    "\n",
    "        elif direction == 2:  # Move left\n",
    "            for j in range(colEnd, colStart - 1, -1):\n",
    "                matrix[rowEnd][j] = num\n",
    "                num += 1\n",
    "            rowEnd -= 1\n",
    "\n",
    "        else:  # Move up\n",
    "            for i in range(rowEnd, rowStart - 1, -1):\n",
    "                matrix[i][colStart] = num\n",
    "                num += 1\n",
    "            colStart += 1\n",
    "\n",
    "        direction = (direction + 1) % 4\n",
    "\n",
    "    return matrix\n",
    "\n",
    "n = 3\n",
    "print(generatematrix(n))\n"
   ]
  },
  {
   "cell_type": "code",
   "execution_count": 17,
   "id": "a20b55ab-c95a-469f-beab-85bc19a3d90a",
   "metadata": {},
   "outputs": [
    {
     "name": "stdout",
     "output_type": "stream",
     "text": [
      "[[7, 0, 0], [-7, 0, 3]]\n"
     ]
    }
   ],
   "source": [
    "'''Question 8\n",
    "\n",
    "Given two [sparse matrices](https://en.wikipedia.org/wiki/Sparse_matrix) mat1 of size m x k and mat2 of size k x n, return the result of mat1 x mat2. You may assume that multiplication is always possible.\n",
    "\n",
    "**Example 1:**\n",
    "\n",
    "\n",
    "**Input:** mat1 = [[1,0,0],[-1,0,3]], mat2 = [[7,0,0],[0,0,0],[0,0,1]]\n",
    "\n",
    "**Output:**\n",
    "\n",
    "[[7,0,0],[-7,0,3]]'''\n",
    "\n",
    "#Answer:-\n",
    "def multiply(mat1, mat2):\n",
    "    m, k, n = len(mat1), len(mat1[0]), len(mat2[0])\n",
    "    result = [[0] * n for _ in range(m)]\n",
    "\n",
    "    for i in range(m):\n",
    "        for j in range(n):\n",
    "            if mat1[i][j] == 0:\n",
    "                continue\n",
    "\n",
    "            for p in range(k):\n",
    "                result[i][j] += mat1[i][p] * mat2[p][j]\n",
    "\n",
    "    return result\n",
    "\n",
    "mat1 = [[1, 0, 0], [-1, 0, 3]]\n",
    "mat2 = [[7, 0, 0], [0, 0, 0], [0, 0, 1]]\n",
    "print(multiply(mat1, mat2))\n"
   ]
  },
  {
   "cell_type": "code",
   "execution_count": null,
   "id": "5c58b549-2e5f-4a40-9144-e96d9e759efa",
   "metadata": {},
   "outputs": [],
   "source": []
  }
 ],
 "metadata": {
  "kernelspec": {
   "display_name": "Python 3 (ipykernel)",
   "language": "python",
   "name": "python3"
  },
  "language_info": {
   "codemirror_mode": {
    "name": "ipython",
    "version": 3
   },
   "file_extension": ".py",
   "mimetype": "text/x-python",
   "name": "python",
   "nbconvert_exporter": "python",
   "pygments_lexer": "ipython3",
   "version": "3.10.6"
  }
 },
 "nbformat": 4,
 "nbformat_minor": 5
}
