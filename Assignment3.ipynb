{
 "cells": [
  {
   "cell_type": "raw",
   "id": "7c4a4f00-108a-4c37-a50e-9ad84134cfb6",
   "metadata": {},
   "source": [
    "1. Why are functions advantageous to have in your programs?\n",
    "\n",
    "Answer:- Functions lets you use a code multiple times in your programmes, It increases the reusability of the code. Function helps you in making a programme structurized and clean, so its easier to read and debug."
   ]
  },
  {
   "cell_type": "raw",
   "id": "69aa7299-cb68-4a5a-8a7b-643062423f7a",
   "metadata": {},
   "source": [
    "2. When does the code in a function run: when it's specified or when it's called?\n",
    "\n",
    "Answer:- A fuction runs in a code when it's called not when it's specified."
   ]
  },
  {
   "cell_type": "raw",
   "id": "852a852c-0af9-4102-be4e-83064751cc4a",
   "metadata": {},
   "source": [
    "3. What statement creates a function?\n",
    "\n",
    "Answer:- \"def\" statement is used to create a function.\n",
    "\n",
    "exa:-  def my_function(): # creating  a function named \"my_function\"\n",
    "           pass\n"
   ]
  },
  {
   "cell_type": "raw",
   "id": "c4c4dd77-802b-4e3e-b25f-59f32692aa95",
   "metadata": {},
   "source": [
    "4. What is the difference between a function and a function call?\n",
    "\n",
    "Answer:- A function and a function call are quite similar but yet different, so a function is a code that executes specified tasks defined by code and returns output, on the other hand function call is used to call the function with specified parameters.\n",
    "\n",
    "exa:- def multiplication(a,b):  # it's a function\n",
    "            return a*b\n",
    "            \n",
    "      multiplication(9,8)    # calling the function with specified parameters  "
   ]
  },
  {
   "cell_type": "raw",
   "id": "5a7882c7-ec92-4ed6-99b0-207b493dbd36",
   "metadata": {},
   "source": [
    "5. How many global scopes are there in a Python program? How many local scopes?\n",
    "\n",
    "Answer:- In a python program there is only one global scope. Any variable defined outside a function is in global scope.\n",
    "No of local scopes depend on the programme that how many time a function is called with the parameters. These local scopes are not accesible outside of a function.\n"
   ]
  },
  {
   "cell_type": "raw",
   "id": "2dbfdd52-93a0-400e-ac8b-d455894a8ca8",
   "metadata": {},
   "source": [
    "6. What happens to variables in a local scope when the function call returns?\n",
    "\n",
    "Answer:- When the function call returns the variables in a local scope gets deleted."
   ]
  },
  {
   "cell_type": "raw",
   "id": "68f19ee1-03b9-4bda-85d1-95b70db39221",
   "metadata": {},
   "source": [
    "7. What is the concept of a return value? Is it possible to have a return value in an expression?\n",
    "\n",
    "Answer:- Return value is a function in python that returns the value after performing the specified operations and calculations.\n",
    "\n",
    "Yes, It is possible to have a retun value in an expression.\n",
    "\n",
    "exa:-\n",
    "def half(a):\n",
    "    return a/2\n",
    "    \n",
    "out = half(8)+half(9)  \n",
    "print(out)"
   ]
  },
  {
   "cell_type": "raw",
   "id": "38fdb027-8103-4b37-9643-233c484dc5ab",
   "metadata": {},
   "source": [
    "8. If a function does not have a return statement, what is the return value of a call to that function?\n",
    "\n",
    "Answer:- If a function has no return statement, it'll execute as usual but the return value of that function would be 'None'."
   ]
  },
  {
   "cell_type": "raw",
   "id": "896212b6-1545-4c8c-b55d-b4f2fc09ef32",
   "metadata": {},
   "source": [
    "9. How do you make a function variable refer to the global variable?\n",
    "\n",
    "Answer:- In a function you can make a global variable by just simply putting \"global\"(without quotation marks) and then the variable name.\n",
    "\n"
   ]
  },
  {
   "cell_type": "raw",
   "id": "1652295e-891c-4ae3-a64c-767126a6803b",
   "metadata": {},
   "source": [
    "10. What is the data type of None?\n",
    "\n",
    "Answer:- The data type of None in python is 'NonType'."
   ]
  },
  {
   "cell_type": "raw",
   "id": "3c901bfa-7f89-48ba-9ad7-068971afaca9",
   "metadata": {},
   "source": [
    "11. What does the sentence import areallyourpetsnamederic do?\n",
    "\n",
    "Answer:- It'll import the python module named areallyourpetsnamederic if it's available and will make it available to be used in your programmes."
   ]
  },
  {
   "cell_type": "raw",
   "id": "971594ab-6f31-4079-b2f7-08c539eca24e",
   "metadata": {},
   "source": [
    "12. If you had a bacon() feature in a spam module, what would you call it after importing spam?\n",
    "\n",
    "Answer:- after importing spam module, I'll simply type 'spam.bacon()'(without quotation marks) to call it.\n",
    "\n",
    "exa:-\n",
    "import spam\n",
    "spam.bacon()"
   ]
  },
  {
   "cell_type": "raw",
   "id": "f785d1e0-42d6-4aa9-ac30-2c0c845e33e2",
   "metadata": {},
   "source": [
    "13. What can you do to save a programme from crashing if it encounters an error?\n",
    "\n",
    "Answer:- To save a programme from crashing if it encounters an error, I'll use a technique known as exception handling, so I'll put my code inside try and except block.\n",
    "\n",
    "exa:-\n",
    "try:\n",
    "    1/0 \n",
    "except Exception as e:\n",
    "    print(\"An error occured please check your code: \", e)"
   ]
  },
  {
   "cell_type": "raw",
   "id": "91b14671-e8e7-4059-a82a-070ffc6d1eb3",
   "metadata": {},
   "source": [
    "14. What is the purpose of the try clause? What is the purpose of the except clause?\n",
    "\n",
    "Answer:- Try clause is to execute a code that may or may not give an error, if it gives an error python will continue executing except block.\n",
    "Except caluse is used to state what python should do in case any error occured in the code. It may be returning the error that occured and also used to log the error in a log file using logging."
   ]
  },
  {
   "cell_type": "code",
   "execution_count": null,
   "id": "b233496a-2f1d-4a4e-a1e4-59cd99b5b066",
   "metadata": {},
   "outputs": [],
   "source": []
  }
 ],
 "metadata": {
  "kernelspec": {
   "display_name": "Python 3 (ipykernel)",
   "language": "python",
   "name": "python3"
  },
  "language_info": {
   "codemirror_mode": {
    "name": "ipython",
    "version": 3
   },
   "file_extension": ".py",
   "mimetype": "text/x-python",
   "name": "python",
   "nbconvert_exporter": "python",
   "pygments_lexer": "ipython3",
   "version": "3.10.6"
  }
 },
 "nbformat": 4,
 "nbformat_minor": 5
}
