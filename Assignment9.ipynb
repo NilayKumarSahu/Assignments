{
 "cells": [
  {
   "cell_type": "raw",
   "id": "6402a5f0-3f06-4492-88fb-985ade5d5663",
   "metadata": {},
   "source": [
    "1. To what does a relative path refer?\n",
    "\n",
    "Answer:- Relative pathe refers to a file or directory  where the file is tored in memory."
   ]
  },
  {
   "cell_type": "raw",
   "id": "72e57f4b-5dce-4a6c-bc41-d586e02870cf",
   "metadata": {},
   "source": [
    "2. What does an absolute path start with your operating system?\n",
    "\n",
    "Answer:- An absoute path in Windows starts with drive letter inside double quotes ending with colon followed by backslash such as \"C:\\\"."
   ]
  },
  {
   "cell_type": "raw",
   "id": "25509ee6-e3fa-4327-9d2f-b2ea83ae7088",
   "metadata": {},
   "source": [
    "3. What do the functions os.getcwd() and os.chdir() do?\n",
    "Answer:- os.getcwd():- This function returns the current working directory of the current python scripts inn string.\n",
    "\n",
    "os.chdir():- This funnction changes the working directory of the scripts to the specified path."
   ]
  },
  {
   "cell_type": "raw",
   "id": "0b8ef8cf-e94a-46f2-9cb6-1aea216b9be8",
   "metadata": {},
   "source": [
    "4. What are the . and .. folders?\n",
    "\n",
    "Answer:- '.' folder:- Dot folder is used to represent the current working directory or specify the path of current working directory.\n",
    "\n",
    "'..' folder:- Dot dot folder is used to reprsent the parent directory.\n",
    "exa:- if /home/user/docs is directory, then '..' represents the /home/user directory."
   ]
  },
  {
   "cell_type": "raw",
   "id": "f0611d6d-3fb9-4b0b-ad3f-6807388f58ad",
   "metadata": {},
   "source": [
    "5. In C:\\bacon\\eggs\\spam.txt, which part is the dir name, and which part is the base name?\n",
    "\n",
    "Answer:- C:\\bacon\\eggs is the dir name and spam is the base name."
   ]
  },
  {
   "cell_type": "raw",
   "id": "420fd0c9-1b6e-41f0-ba22-b96a75879f3f",
   "metadata": {},
   "source": [
    "6. What are the three “mode” arguments that can be passed to the open() function?\n",
    "\n",
    "Answer:- \n",
    "1:- 'r'mode- 'r' mode opens the file in read mode in this mode you can only read the file any attempt to write or modify will raise error.\n",
    "\n",
    "2:- 'w'mode- 'w' mode opens the file in writing mode if the file already open in write mode if we try to write it'll clear the existing data in order to write the new data.\n",
    "\n",
    "3:- 'a'mode- 'a' mode opens the file in appendind mode, it means the new data will be appended in the last."
   ]
  },
  {
   "cell_type": "raw",
   "id": "523c32ee-7f4d-4603-b54b-9daf9e5ea4d6",
   "metadata": {},
   "source": [
    "7. What happens if an existing file is opened in write mode?\n",
    "\n",
    "Answer:- If an existing file is opened on write mode then if we'll try to write new data the previous one will get cleared.\n",
    "Also it the file name doesn't exist in memory it'll create a new file."
   ]
  },
  {
   "cell_type": "raw",
   "id": "6db9dbbd-7a7b-4920-a15f-aae0fc6209a5",
   "metadata": {},
   "source": [
    "8. How do you tell the difference between read() and readlines()?\n",
    "\n",
    "Answer:- read():- It reads the whole content of the file in a single string.\n",
    "\n",
    "readlines()- It reads the content of file line by line in list where each element represents a line. "
   ]
  },
  {
   "cell_type": "raw",
   "id": "36c679b5-51d7-4334-a26d-66c6a007bf20",
   "metadata": {},
   "source": [
    "9. What data structure does a shelf value resemble?\n",
    "\n",
    "Answer:- A shelf value resembles a dictionary-like data structure."
   ]
  }
 ],
 "metadata": {
  "kernelspec": {
   "display_name": "Python 3 (ipykernel)",
   "language": "python",
   "name": "python3"
  },
  "language_info": {
   "codemirror_mode": {
    "name": "ipython",
    "version": 3
   },
   "file_extension": ".py",
   "mimetype": "text/x-python",
   "name": "python",
   "nbconvert_exporter": "python",
   "pygments_lexer": "ipython3",
   "version": "3.10.6"
  }
 },
 "nbformat": 4,
 "nbformat_minor": 5
}
