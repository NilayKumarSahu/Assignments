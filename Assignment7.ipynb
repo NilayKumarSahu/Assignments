{
 "cells": [
  {
   "cell_type": "raw",
   "id": "8cdf92d1-f2e1-4e94-b688-f6e0840cdd02",
   "metadata": {},
   "source": [
    "1. What is the name of the feature responsible for generating Regex objects?\n",
    "\n",
    "Answer:- 're.compile()' is responsible for generating regex objects."
   ]
  },
  {
   "cell_type": "raw",
   "id": "6e129f58-37e9-4e60-a74d-b005a156cc63",
   "metadata": {},
   "source": [
    "2. Why do raw strings often appear in Regex objects?\n",
    "\n",
    "Answer:- Raw strings often appears in Regex objects because in regular string expression backslash is used to escape special characters but in raw string it's not treated as special character."
   ]
  },
  {
   "cell_type": "raw",
   "id": "4abcc3dd-c70f-434d-b249-0d06659eb85a",
   "metadata": {},
   "source": [
    "3. What is the return value of the search() method?\n",
    "\n",
    "Answer:- Search returns 'Match' if the given object matches the string else it returns 'None'."
   ]
  },
  {
   "cell_type": "raw",
   "id": "a85206c9-0344-4b60-8e31-55bf59514907",
   "metadata": {},
   "source": [
    "4. From a Match item, how do you get the actual strings that match the pattern?\n",
    "\n",
    "Answer:- To get the actual strings that matches the pattern we use 'group()' method, it returns the matched string."
   ]
  },
  {
   "cell_type": "raw",
   "id": "cbcbb36f-38d0-4761-9d3a-ae94ce73fda2",
   "metadata": {},
   "source": [
    "5. In the regex which created from the r'(\\d\\d\\d)-(\\d\\d\\d-\\d\\d\\d\\d)', what does group zero cover?\n",
    "Group 2? Group 1?\n",
    "\n",
    "Answer:- Group zero:- It covers the matched string.\n",
    "Group1:- It covers first group which is having three digits seprated by hyphen.\n",
    "Group2:- It covers second group which is having seven digits. "
   ]
  },
  {
   "cell_type": "raw",
   "id": "0b74fd8b-08cd-4031-8cfe-bb35ab4a6711",
   "metadata": {},
   "source": [
    "6. In standard expression syntax, parentheses and intervals have distinct meanings. How can you tell a regex that you want it to fit real parentheses and periods?\n",
    "\n",
    "Answer:- To tell a regex to fit real parentheses and periods in regex, we can use '\\'.\n"
   ]
  },
  {
   "cell_type": "raw",
   "id": "d3afa749-8d73-47c6-bcbf-8d7d7ea779a3",
   "metadata": {},
   "source": [
    "7. The findall() method returns a string list or a list of string tuples. What causes it to return one of\n",
    "the two options?\n",
    "\n",
    "Answer:- If expression contains any group then findall() returns list of string tuples, else if doesn't contain any group then it returns string list."
   ]
  },
  {
   "cell_type": "raw",
   "id": "f2293b03-8873-4620-984f-f96fafed6509",
   "metadata": {},
   "source": [
    "8. In standard expressions, what does the | character mean?\n",
    "\n",
    "Answer:- In standard expressions | character is known as 'OR' operator which helps you to match one pattern or another."
   ]
  },
  {
   "cell_type": "raw",
   "id": "c75c40af-20ad-4ef6-adac-5d987955fc01",
   "metadata": {},
   "source": [
    "9. In regular expressions, what does the character stand for?\n",
    "\n",
    "Answer:- A character in regular expressions stands for a single text that can be matched by a regular expression pattern."
   ]
  },
  {
   "cell_type": "raw",
   "id": "2b34a664-d2a5-4804-9cd2-f64bef6fdee6",
   "metadata": {},
   "source": [
    "10.In regular expressions, what is the difference between the + and * characters?\n",
    "\n",
    "Answer:- the main difference between the \"+\" and \"*\" characters is that \"+\" requires at least one occurrence of the  character or group, whereas \"*\" allows for zero or more occurrences."
   ]
  },
  {
   "cell_type": "raw",
   "id": "73fb5548-e709-4be4-b73c-596bb930bada",
   "metadata": {},
   "source": [
    "11. What is the difference between {4} and {4,5} in regular expression?\n",
    "\n",
    "Answer:- {4} means the character or group must appear exactly 4 times in the matched text whereas {4,5} means the character or group must appear between 4 and 5 times in the matched text."
   ]
  },
  {
   "cell_type": "raw",
   "id": "16203db5-1a60-40b5-a614-0c106b08aea0",
   "metadata": {},
   "source": [
    "\n",
    "12. What do you mean by the \\d, \\w, and \\s shorthand character classes signify in regular\n",
    "expressions?\n",
    "\n",
    "Answer:- \n",
    "\\d :- It represents any digit character.\n",
    "\\w :- It represents any word character.\n",
    "\\s :- It represents any whitespace charater.\n"
   ]
  },
  {
   "cell_type": "raw",
   "id": "1c5cb27e-089f-44af-989e-fe91e0f1a3cf",
   "metadata": {},
   "source": [
    "13. What do means by \\D, \\W, and \\S shorthand character classes signify in regular expressions?\n",
    "\n",
    "Answer:- \n",
    "\\D :- It stands for any non digit character.\n",
    "\\W :- It stands for any non word character\n",
    "\\S :- It stands for any non whitespace charater"
   ]
  },
  {
   "cell_type": "raw",
   "id": "3d6dd62f-9cc3-4111-9494-c2d7da463634",
   "metadata": {},
   "source": [
    "14. What is the difference between .*? and .*?\n",
    "\n",
    "Answer:- .* matches zero or more occurrences of any character, including newlines and tries to match as much as possible, also known as greedy mode whereas .*? also matches zero or more occurrences of any character, including newlines, but it will match as few characters as possible also known as lazy mode."
   ]
  },
  {
   "cell_type": "raw",
   "id": "9f8d015a-24fd-4ca8-af12-89bb02634b05",
   "metadata": {},
   "source": [
    "15. What is the syntax for matching both numbers and lowercase letters with a character class?\n",
    "\n",
    "Answer:- For matching both numbers and lowercase letters with a character class we can use this [0-9a-z].\n"
   ]
  },
  {
   "cell_type": "raw",
   "id": "0c2411d5-f10a-4659-8488-164e54260a2f",
   "metadata": {},
   "source": [
    "16. What is the procedure for making a normal expression in regax case insensitive?\n",
    "\n",
    "Answer:- re.IGNORECASE can be used."
   ]
  },
  {
   "cell_type": "raw",
   "id": "0c6ed746-96ae-47c1-8168-b03bcddb9ddb",
   "metadata": {},
   "source": [
    "17. What does the . character normally match? What does it match if re.DOTALL is passed as 2nd argument in re.compile()?\n",
    "\n",
    "Answer:- the . character normally matches any character excluding newline, whereas if you pass re.DOTALL flag as the second argument to re.compile()  the . character will match any character, including newline."
   ]
  },
  {
   "cell_type": "raw",
   "id": "ced95896-717c-4c46-bc93-a17552d44db9",
   "metadata": {},
   "source": [
    "18. If numReg = re.compile(r'\\d+'), what will numRegex.sub('X', '11 drummers, 10 pipers, five rings, 4 hen') return?\n",
    "\n",
    "Answer:- It will return 'X drummers, X pipers, five rings, X hens'."
   ]
  },
  {
   "cell_type": "raw",
   "id": "9ecb2ab3-36a3-4305-9290-b925c4b1597a",
   "metadata": {},
   "source": [
    "19. What does passing re.VERBOSE as the 2nd argument to re.compile() allow to do?\n",
    "\n",
    "Answer:- It allows you to use verbose mode in your regular expression. "
   ]
  },
  {
   "cell_type": "raw",
   "id": "6fdb0187-5ead-4e72-aa9b-29bb7dfbfbd3",
   "metadata": {},
   "source": [
    "20. How would you write a regex that match a number with comma for every three digits? It must match the given following:\n",
    "'42'\n",
    "'1,234'\n",
    "'6,368,745'\n",
    "\n",
    "but not the following:\n",
    "'12,34,567' (which has only two digits between the commas)\n",
    "'1234' (which lacks commas)\n",
    "\n",
    "Answer:-  \n",
    "import re\n",
    "pattern = r'^\\d{1,3}(,\\d{3})*$'\n",
    "regex = re.compile(pattern)\n",
    "numbers = [\n",
    "    '42',\n",
    "    '1,234',\n",
    "    '6,368,745',\n",
    "    '12,34,567',\n",
    "    '1234'\n",
    "]\n",
    "for number in numbers:\n",
    "    if regex.match(number):\n",
    "        print(\"Match:\", number)\n",
    "    else:\n",
    "        print(\"No match:\", number)"
   ]
  },
  {
   "cell_type": "raw",
   "id": "307b7eb2-5094-487c-a064-3b12596130f7",
   "metadata": {},
   "source": [
    "21. How would you write a regex that matches the full name of someone whose last name is\n",
    "Watanabe? You can assume that the first name that comes before it will always be one word that\n",
    "begins with a capital letter. The regex must match the following:\n",
    "'Haruto Watanabe'\n",
    "'Alice Watanabe'\n",
    "'RoboCop Watanabe'\n",
    "but not the following:\n",
    "'haruto Watanabe' (where the first name is not capitalized)\n",
    "'Mr. Watanabe' (where the preceding word has a nonletter character)\n",
    "'Watanabe' (which has no first name)\n",
    "'Haruto watanabe' (where Watanabe is not capitalized)\n",
    "\n",
    "Answer:-\n",
    "import re\n",
    "pattern = r'^[A-Z][a-zA-Z]*\\sWatanabe$'\n",
    "regex = re.compile(pattern)\n",
    "names = [\n",
    "    'Haruto Watanabe',\n",
    "    'Alice Watanabe',\n",
    "    'RoboCop Watanabe',\n",
    "    'haruto Watanabe',\n",
    "    'Mr. Watanabe',\n",
    "    'Watanabe',\n",
    "    'Haruto watanabe'\n",
    "]\n",
    "for name in names:\n",
    "    if regex.match(name):\n",
    "        print(\"Match:\", name)\n",
    "    else:\n",
    "        print(\"No match:\", name)"
   ]
  },
  {
   "cell_type": "raw",
   "id": "f358e442-0899-47a7-8d64-78be1935f148",
   "metadata": {},
   "source": [
    "22. How would you write a regex that matches a sentence where the first word is either Alice, Bob,\n",
    "or Carol; the second word is either eats, pets, or throws; the third word is apples, cats, or baseballs;\n",
    "and the sentence ends with a period? This regex should be case-insensitive. It must match the\n",
    "following:\n",
    "'Alice eats apples.'\n",
    "'Bob pets cats.'\n",
    "'Carol throws baseballs.'\n",
    "'Alice throws Apples.'\n",
    "'BOB EATS CATS.'\n",
    "but not the following:\n",
    "'RoboCop eats apples.'\n",
    "'ALICE THROWS FOOTBALLS.'\n",
    "'Carol eats 7 cats.'\n",
    "\n",
    "Answer:- \n",
    "import re\n",
    "\n",
    "pattern = r'^(Alice|Bob|Carol)\\s+(eats|pets|throws)\\s+(apples|cats|baseballs)\\.$'\n",
    "regex = re.compile(pattern, re.IGNORECASE)\n",
    "sentences = [\n",
    "    'Alice eats apples.',\n",
    "    'Bob pets cats.',\n",
    "    'Carol throws baseballs.',\n",
    "    'Alice throws Apples.',\n",
    "    'BOB EATS CATS.',\n",
    "    'RoboCop eats apples.',\n",
    "    'ALICE THROWS FOOTBALLS.',\n",
    "    'Carol eats 7 cats.'\n",
    "]\n",
    "for sentence in sentences:\n",
    "    if regex.match(sentence):\n",
    "        print(\"Match:\", sentence)\n",
    "    else:\n",
    "        print(\"No match:\", sentence)"
   ]
  }
 ],
 "metadata": {
  "kernelspec": {
   "display_name": "Python 3 (ipykernel)",
   "language": "python",
   "name": "python3"
  },
  "language_info": {
   "codemirror_mode": {
    "name": "ipython",
    "version": 3
   },
   "file_extension": ".py",
   "mimetype": "text/x-python",
   "name": "python",
   "nbconvert_exporter": "python",
   "pygments_lexer": "ipython3",
   "version": "3.10.6"
  }
 },
 "nbformat": 4,
 "nbformat_minor": 5
}
