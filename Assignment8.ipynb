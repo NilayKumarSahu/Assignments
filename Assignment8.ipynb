{
 "cells": [
  {
   "cell_type": "raw",
   "id": "c39da5e6-5d5a-42d1-b919-71366342be81",
   "metadata": {},
   "source": [
    "1. Is the Python Standard Library included with PyInputPlus?\n",
    "\n",
    "Answer:- No, the python standard library is not included with PyInputPlus."
   ]
  },
  {
   "cell_type": "raw",
   "id": "6af8d031-17e5-49c3-909e-4e8337ecb182",
   "metadata": {},
   "source": [
    "2. Why is PyInputPlus commonly imported with import pyinputplus as pypi?\n",
    "\n",
    "Answer:- It is imported with import pyinputplus as pypi because it makes easier to use the library inn code."
   ]
  },
  {
   "cell_type": "raw",
   "id": "36c1d869-bf51-4fee-966f-ae716018792f",
   "metadata": {},
   "source": [
    "3. How do you distinguish between inputInt() and inputFloat()?\n",
    "\n",
    "Answer:- inputInt(): It lets the user to input any integer value and if user inputs non-integer value it doesn't accept it and asks to enter again.\n",
    "\n",
    "inputFloat(): It lets the user to input any float value and if user inputs non-float value it doesn't accept it and asks to enter again."
   ]
  },
  {
   "cell_type": "raw",
   "id": "65fc7790-baa1-45d6-a64d-2709795ee62a",
   "metadata": {},
   "source": [
    "4. Using PyInputPlus, how do you ensure that the user enters a whole number between 0 and 99?\n",
    "\n",
    "Answer:- We will use additional arguments in inputInt() function.\n",
    "\n",
    "Example:-\n",
    "import pyinputplus as pypi\n",
    "\n",
    "number = pypi.inputInt(prompt=\" Enter the value\", min=0, max=99)\n"
   ]
  },
  {
   "cell_type": "raw",
   "id": "592132cd-12ee-4699-876c-7fffedda144b",
   "metadata": {},
   "source": [
    "5. What is transferred to the keyword arguments allowRegexes and blockRegexes?\n",
    "\n",
    "Answer:- allowRegexes: it expects a list of regular expression patterns as strings, If anything doesn't match it asks to input again.\n",
    "\n",
    "blockRegexes:-  it also expects a list of regular expression patterns as strings but there would be some patterns that would be specified to be blocked, If anything matches the specified pattern it'll ask you to input again."
   ]
  },
  {
   "cell_type": "raw",
   "id": "30406d59-6cd2-4062-9e02-21b975c6ba3e",
   "metadata": {},
   "source": [
    "6. If a blank input is entered three times, what does inputStr(limit=3) do?\n",
    "\n",
    "Answer:- It will raise RetryLimitException error."
   ]
  },
  {
   "cell_type": "raw",
   "id": "38e17d87-f0b3-47ba-945b-bf2c8813e1c4",
   "metadata": {},
   "source": [
    "7. If blank input is entered three times, what does inputStr(limit=3, default='hello') do?\n",
    "\n",
    "Answer:- If blank input is entered three times, then the default value will be considered 'hello' by the python as input."
   ]
  },
  {
   "cell_type": "code",
   "execution_count": null,
   "id": "684f817f-9254-4d3f-b645-bedf0e8a83d5",
   "metadata": {},
   "outputs": [],
   "source": []
  }
 ],
 "metadata": {
  "kernelspec": {
   "display_name": "Python 3 (ipykernel)",
   "language": "python",
   "name": "python3"
  },
  "language_info": {
   "codemirror_mode": {
    "name": "ipython",
    "version": 3
   },
   "file_extension": ".py",
   "mimetype": "text/x-python",
   "name": "python",
   "nbconvert_exporter": "python",
   "pygments_lexer": "ipython3",
   "version": "3.10.6"
  }
 },
 "nbformat": 4,
 "nbformat_minor": 5
}
