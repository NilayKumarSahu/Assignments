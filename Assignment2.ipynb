{
 "cells": [
  {
   "cell_type": "raw",
   "id": "5bc4d4d5-e79c-4974-9b5c-e931bd304655",
   "metadata": {},
   "source": [
    "1.What are the two values of the Boolean data type? How do you write them?\n",
    "\n",
    "Answer:- The two values of the Boolean data type are 'True' and 'False'.\n",
    "Both values are written like this 'True' and 'False'(First letter should be in uppercase and all other in lower case also without quotation marks.)\n",
    "\n"
   ]
  },
  {
   "cell_type": "raw",
   "id": "5bff7023-6b30-48b0-82c5-2082824ba9f7",
   "metadata": {},
   "source": [
    "2. What are the three different types of Boolean operators?\n",
    "\n",
    "Answer:- Three types of Boolean operators are :-\n",
    "         1. or\n",
    "         2. and\n",
    "         3. not\n"
   ]
  },
  {
   "cell_type": "raw",
   "id": "0da2c06c-6ec4-4262-93c5-bb7a61648686",
   "metadata": {},
   "source": [
    "3. Make a list of each Boolean operator's truth tables (i.e. every possible combination of Boolean values for the operator and what it evaluate )\n",
    "\n",
    "Answer:- and operator's truth table:-\n",
    "         True and True = True\n",
    "         False and False = False\n",
    "         True and False = False\n",
    "         False and True = False\n",
    "         \n",
    "        or operator's truth table:-\n",
    "         True and True = True\n",
    "         False and False = False\n",
    "         True and False = True\n",
    "         False and True = True\n",
    "        \n",
    "        not operator's truth table:-\n",
    "         not True = False\n",
    "         not False = True\n",
    "        "
   ]
  },
  {
   "cell_type": "raw",
   "id": "02b36aab-2d6d-4c23-9ab2-979ba121ac0e",
   "metadata": {},
   "source": [
    "4. What are the values of the following expressions?\n",
    "(5 > 4) and (3 == 5)\n",
    "not (5 > 4)\n",
    "(5 > 4) or (3 == 5)\n",
    "not ((5 > 4) or (3 == 5))\n",
    "(True and True) and (True == False)\n",
    "(not False) or (not True)\n",
    "\n",
    "Answer:-\n",
    "        (5 > 4) and (3 == 5) => False\n",
    "        \n",
    "        not (5 > 4) => False\n",
    "        \n",
    "        (5 > 4) or (3 == 5) => True\n",
    "        \n",
    "        not ((5 > 4) or (3 == 5)) => False\n",
    "        \n",
    "        (True and True) and (True == False) => False\n",
    "        \n",
    "        (not False) or (not True) => True"
   ]
  },
  {
   "cell_type": "raw",
   "id": "d251b86a-9f6c-4062-b606-af847e8a10a2",
   "metadata": {},
   "source": [
    "5. What are the six comparison operators?\n",
    "\n",
    "Answer:- 1. == \"Equal to\"\n",
    "         2. > \"Greater than\"\n",
    "         3. < \"Less than\"\n",
    "         4. >= \"Greater than or equal to\"\n",
    "         5. <= \"Less than or equal to\"\n",
    "         6. != \"not equal to\"\n",
    "\n",
    "\n"
   ]
  },
  {
   "cell_type": "raw",
   "id": "815fe673-c971-4b75-9c8f-92f7c92758a7",
   "metadata": {},
   "source": [
    "6. How do you tell the difference between the equal to and assignment operators?Describe a condition and when you would use one.\n",
    "\n",
    "Answer:- Equal to is denoted by \"==\" in python and used to compare two values whether they are equal to or not and it returns boolean value(True or False).\n",
    "Assignment operator is used to assign a value to a variable and it is represented by \"=\".\n",
    "\n",
    "when I want to assign a value to x lets assume 5 then I'll use assignment operator.\n",
    "Exa:- x = 5\n",
    "\n",
    "When I want to compare two values if they are equal or not then I'll use equal to.\n",
    "Exa:- x = 5  # assigning value to x\n",
    "      y = 6  # assigning value to y\n",
    "      x == y  # comparing both whether they are equal or not using equal to\n",
    "  out:- False    "
   ]
  },
  {
   "cell_type": "raw",
   "id": "d6416412-1bcc-41d9-815b-46a16156d509",
   "metadata": {},
   "source": [
    "7. Identify the three blocks in this code:\n",
    "spam = 0\n",
    "if spam == 10:\n",
    "print('eggs')\n",
    "if spam > 5:\n",
    "print('bacon')\n",
    "else:\n",
    "print('ham')\n",
    "print('spam')\n",
    "print('spam')\n",
    "\n",
    "Answer:- First block:-\n",
    "                      spam = 0\n",
    "         Second block:-\n",
    "                      if spam == 10:\n",
    "                      print('eggs')\n",
    "                      if spam > 5:\n",
    "                      print('bacon')\n",
    "         Third Block:-\n",
    "                      else:\n",
    "                        print('ham')\n",
    "                        print('spam')\n",
    "                        print('spam')"
   ]
  },
  {
   "cell_type": "code",
   "execution_count": null,
   "id": "311a9b7e-e031-48c5-9b27-8a50d03425f5",
   "metadata": {},
   "outputs": [],
   "source": [
    "''' 8. Write code that prints Hello if 1 is stored in spam, prints Howdy if 2 is stored in spam, and prints Greetings! \n",
    "if anything else is stored in spam. '''\n",
    "\n",
    "# Answer:-\n",
    "if spam == 1 :\n",
    "    print ('Hello')\n",
    "elif spam == 2 :\n",
    "    print('Howdy')\n",
    "else:\n",
    "    print('Greetings!')"
   ]
  },
  {
   "cell_type": "raw",
   "id": "b0ef7c90-e211-4196-85dd-79cb54a98365",
   "metadata": {},
   "source": [
    "9.If your programme is stuck in an endless loop, what keys you’ll press?\n",
    "\n",
    "Answer:- If programme is stuck in an endless loop, I'll try to interrupt it by pressing \"Ctrl\" and \"c\" again and again until loop stops.\n"
   ]
  },
  {
   "cell_type": "raw",
   "id": "d1b8d195-0cf3-4568-8a87-bce8a4e0a236",
   "metadata": {},
   "source": [
    "10. How can you tell the difference between break and continue?\n",
    "\n",
    "Answer:- Break statement is used to terminate the ongoing loop prematurily and continue statement terminates the current iteration and moves to executing furthe code."
   ]
  },
  {
   "cell_type": "raw",
   "id": "2e26a8dc-ca86-4b63-9b41-1f566c4c86b8",
   "metadata": {},
   "source": [
    "11. In a for loop, what is the difference between range(10), range(0, 10), and range(0, 10, 1)?\n",
    "\n",
    "Answer:- range(10), range(0, 10), and range(0, 10, 1) all three will produce the same output.\n",
    "         range(10) - It'll produce output from 0 to 9, because it'll exclude the upper bound.\n",
    "         \n",
    "         range(0, 10)- It'll also produce output from 0 to 9, here 0 is the starting value.\n",
    "         \n",
    "         range(0, 10, 1)- It'll also produce output from 0 to 9, here 0 is the starting value, 10 is the upperbound                          and 1 is incrementing step."
   ]
  },
  {
   "cell_type": "code",
   "execution_count": 5,
   "id": "f0bb3ba5-54be-46c4-a666-0584486c77c8",
   "metadata": {},
   "outputs": [
    {
     "name": "stdout",
     "output_type": "stream",
     "text": [
      "1\n",
      "2\n",
      "3\n",
      "4\n",
      "5\n",
      "6\n",
      "7\n",
      "8\n",
      "9\n",
      "10\n",
      "==========\n",
      "1\n",
      "2\n",
      "3\n",
      "4\n",
      "5\n",
      "6\n",
      "7\n",
      "8\n",
      "9\n",
      "10\n"
     ]
    }
   ],
   "source": [
    "''' 12. Write a short program that prints the numbers 1 to 10 using a for loop. Then write an equivalent program\n",
    "that prints the numbers 1 to 10 using a while loop. '''\n",
    "\n",
    "# Answer:-\n",
    "# using for loop\n",
    "for i in range(1, 11):\n",
    "    print(i)\n",
    "    \n",
    "print(\"=\"*10)    \n",
    "# using while loop\n",
    "i = 1\n",
    "while i <= 10 :\n",
    "    print(i)\n",
    "    i += 1\n",
    "    \n",
    "    \n"
   ]
  },
  {
   "cell_type": "raw",
   "id": "fbb3697f-1521-4133-abac-a43a17971b78",
   "metadata": {},
   "source": [
    "13. If you had a function named bacon() inside a module named spam, how would you call it after importing spam?\n",
    "\n",
    "Answer:- We can call it using two ways like following:-\n",
    "\n",
    "1. First method:-\n",
    "\n",
    "from spam import bacon\n",
    "\n",
    "bacon() # calling bacon function\n",
    "\n",
    "2. Second method:-\n",
    "\n",
    "import spam\n",
    "\n",
    "spam.bacon()  # calling bacon function"
   ]
  },
  {
   "cell_type": "code",
   "execution_count": null,
   "id": "a3f0fc50-fcfe-4879-b9fe-ac6052418186",
   "metadata": {},
   "outputs": [],
   "source": []
  }
 ],
 "metadata": {
  "kernelspec": {
   "display_name": "Python 3 (ipykernel)",
   "language": "python",
   "name": "python3"
  },
  "language_info": {
   "codemirror_mode": {
    "name": "ipython",
    "version": 3
   },
   "file_extension": ".py",
   "mimetype": "text/x-python",
   "name": "python",
   "nbconvert_exporter": "python",
   "pygments_lexer": "ipython3",
   "version": "3.10.6"
  }
 },
 "nbformat": 4,
 "nbformat_minor": 5
}
