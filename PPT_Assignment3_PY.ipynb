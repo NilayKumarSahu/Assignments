{
 "cells": [
  {
   "cell_type": "code",
   "execution_count": 1,
   "id": "8bfd47e9-667f-488b-a4f2-88d355d23057",
   "metadata": {},
   "outputs": [
    {
     "name": "stdout",
     "output_type": "stream",
     "text": [
      "Mean sales for region A: 11.8\n",
      "Mean sales for region B: 20.2\n"
     ]
    }
   ],
   "source": [
    "'''1. Scenario: A company wants to analyze the sales performance of its products in different regions. They have collected the following data:\n",
    "   Region A: [10, 15, 12, 8, 14]\n",
    "   Region B: [18, 20, 16, 22, 25]\n",
    "   Calculate the mean sales for each region.'''\n",
    "#Answer:-\n",
    "import numpy as np\n",
    "def sale_mean(region_a, region_b):\n",
    "    region_a = np.mean(region_a)\n",
    "    region_b = np.mean(region_b)\n",
    "    print(f\"Mean sales for region A: {region_a}\")\n",
    "    print(f\"Mean sales for region B: {region_b}\")\n",
    "    \n",
    "    \n",
    "region_a =  [10, 15, 12, 8, 14]\n",
    "region_b = [18, 20, 16, 22, 25]    \n",
    "sale_mean(region_a, region_b)    "
   ]
  },
  {
   "cell_type": "code",
   "execution_count": 8,
   "id": "990dba65-e52f-4ec2-b5e3-3c9e8223455c",
   "metadata": {},
   "outputs": [
    {
     "data": {
      "text/plain": [
       "4"
      ]
     },
     "execution_count": 8,
     "metadata": {},
     "output_type": "execute_result"
    }
   ],
   "source": [
    "'''2. Scenario: A survey is conducted to measure customer satisfaction on a scale of 1 to 5. The data collected is as follows:\n",
    "   [4, 5, 2, 3, 5, 4, 3, 2, 4, 5]\n",
    "   Calculate the mode of the survey responses.'''\n",
    "\n",
    "#Answer:-\n",
    "import statistics as stats\n",
    "def survey_mode(data):\n",
    "    data = stats.mode(data)\n",
    "    return data\n",
    "   \n",
    "    \n",
    "    \n",
    "data = [4, 5, 2, 3, 5, 4, 3, 2, 4, 5]    \n",
    "survey_mode(data) "
   ]
  },
  {
   "cell_type": "code",
   "execution_count": 10,
   "id": "ce4d2c2d-ff08-4876-8b81-5849daaf29a4",
   "metadata": {},
   "outputs": [
    {
     "name": "stdout",
     "output_type": "stream",
     "text": [
      "Median salary of Department_A : 5750.0\n",
      "Median salary of Department_B : 5750.0\n"
     ]
    }
   ],
   "source": [
    "'''3. Scenario: A company wants to compare the salaries of two departments. The salary data for Department A and Department B are as follows:\n",
    "   Department A: [5000, 6000, 5500, 7000]\n",
    "   Department B: [4500, 5500, 5800, 6000, 5200]\n",
    "   Calculate the median salary for each department.'''\n",
    "\n",
    "#Answer:-\n",
    "import numpy as np\n",
    "def salary_median(a, b):\n",
    "    a = np.median(a)\n",
    "    b = np.median(b)\n",
    "    print(f\"Median salary of Department_A : {a}\")\n",
    "    print(f\"Median salary of Department_B : {b}\")\n",
    "    \n",
    "    \n",
    "Department_A =  [5000, 6000, 5500, 7000]\n",
    "Department_B = [4500, 5500, 5800, 6000, 5200]    \n",
    "salary_median(Department_A, Department_A)"
   ]
  },
  {
   "cell_type": "code",
   "execution_count": 11,
   "id": "9d2cbd14-695c-41ec-b1c5-7e1dc7bb4d14",
   "metadata": {},
   "outputs": [
    {
     "name": "stdout",
     "output_type": "stream",
     "text": [
      "1.3000000000000007\n"
     ]
    }
   ],
   "source": [
    "'''4. Scenario: A data analyst wants to determine the variability in the daily stock prices of a company. The data collected is as follows:\n",
    "   [25.5, 24.8, 26.1, 25.3, 24.9]\n",
    "   Calculate the range of the stock prices.'''\n",
    "\n",
    "#Answer:-\n",
    "stock_prices = [25.5, 24.8, 26.1, 25.3, 24.9]\n",
    "price_range = max(stock_prices) - min(stock_prices)\n",
    "\n",
    "print(price_range)"
   ]
  },
  {
   "cell_type": "code",
   "execution_count": 30,
   "id": "cbd90e3b-3fd5-433e-b19b-055e92541f7a",
   "metadata": {},
   "outputs": [
    {
     "name": "stdout",
     "output_type": "stream",
     "text": [
      "0.19023970239078333\n",
      "no significant difference between the mean scores.\n"
     ]
    }
   ],
   "source": [
    "'''5. Scenario: A study is conducted to compare the performance of two different teaching methods. The test scores of the students in each group are as follows:\n",
    "   Group A: [85, 90, 92, 88, 91]\n",
    "   Group B: [82, 88, 90, 86, 87]\n",
    "   Perform a t-test to determine if there is a significant difference in the mean scores between the two groups.'''\n",
    "\n",
    "#Answer:-\n",
    "from scipy import stats\n",
    "\n",
    "group_a = [85, 90, 92, 88, 91]\n",
    "group_b = [82, 88, 90, 86, 87]\n",
    "\n",
    "t_stats, p_value = stats.ttest_ind(group_a, group_b)\n",
    "print(p_value)\n",
    "#Hypothesis\n",
    "if p_value < 0.05:\n",
    "    print(\"There is a significant difference between the mean scores.\")\n",
    "else:\n",
    "    print(\"no significant difference between the mean scores.\")\n"
   ]
  },
  {
   "cell_type": "code",
   "execution_count": 16,
   "id": "af53c8ba-6cbf-4e6a-ad24-928dc11a3d67",
   "metadata": {},
   "outputs": [
    {
     "name": "stdout",
     "output_type": "stream",
     "text": [
      "0.8757511375750133\n"
     ]
    }
   ],
   "source": [
    "'''6. Scenario: A company wants to analyze the relationship between advertising expenditure and sales. The data collected is as follows:\n",
    "   Advertising Expenditure (in thousands): [10, 15, 12, 8, 14]\n",
    "   Sales (in thousands): [25, 30, 28, 20, 26]\n",
    "   Calculate the correlation coefficient between advertising expenditure and sales.'''\n",
    "\n",
    "#Answer:-\n",
    "from scipy import stats\n",
    "\n",
    "Advertising = [10, 15, 12, 8, 14]\n",
    "Sales = [25, 30, 28, 20, 26]\n",
    "\n",
    "correlation_coefficient, p_value = stats.pearsonr(Advertising, Sales)\n",
    "\n",
    "print(correlation_coefficient)\n"
   ]
  },
  {
   "cell_type": "code",
   "execution_count": 18,
   "id": "d1ca405f-a470-4dd6-b49c-264c275c2096",
   "metadata": {},
   "outputs": [
    {
     "name": "stdout",
     "output_type": "stream",
     "text": [
      "8.591246929842246\n"
     ]
    }
   ],
   "source": [
    "'''7. Scenario: A survey is conducted to measure the heights of a group of people. The data collected is as follows:\n",
    "   [160, 170, 165, 155, 175, 180, 170]\n",
    "   Calculate the standard deviation of the heights.'''\n",
    "\n",
    "#Answer:-\n",
    "import statistics as stats\n",
    "heights = [160, 170, 165, 155, 175, 180, 170]\n",
    "std_deviation = stats.stdev(heights)\n",
    "\n",
    "print(std_deviation)\n"
   ]
  },
  {
   "cell_type": "code",
   "execution_count": 7,
   "id": "020e5a3b-2cc0-420e-9084-aee30861eec1",
   "metadata": {},
   "outputs": [
    {
     "name": "stdout",
     "output_type": "stream",
     "text": [
      "Predictions of job satisfaction: [7.19148936 6.72340426 5.78723404]\n"
     ]
    }
   ],
   "source": [
    "'''8. Scenario: A company wants to analyze the relationship between employee tenure and job satisfaction. The data collected is as follows:\n",
    "   Employee Tenure (in years): [2, 3, 5, 4, 6, 2, 4]\n",
    "   Job Satisfaction (on a scale of 1 to 10): [7, 8, 6, 9, 5, 7, 6]\n",
    "   Perform a linear regression analysis to predict job satisfaction based on employee tenure.'''\n",
    "\n",
    "#Answer:-\n",
    "import numpy as np\n",
    "from sklearn.linear_model import LinearRegression\n",
    "\n",
    "tenure = np.array([2, 3, 5, 4, 6, 2, 4]).reshape((-1, 1))\n",
    "satisfaction = np.array([7, 8, 6, 9, 5, 7, 6])\n",
    "\n",
    "model = LinearRegression()\n",
    "\n",
    "model.fit(tenure, satisfaction)\n",
    "\n",
    "new_tenure = np.array([3, 4, 6]).reshape((-1, 1))\n",
    "predictions = model.predict(new_tenure)\n",
    "\n",
    "print(\"Predictions of job satisfaction:\", predictions)\n",
    "\n"
   ]
  },
  {
   "cell_type": "code",
   "execution_count": 31,
   "id": "7ceac000-6421-4e68-83ac-8a9ca965ac09",
   "metadata": {},
   "outputs": [
    {
     "name": "stdout",
     "output_type": "stream",
     "text": [
      "0.003949772803445326\n",
      "there is a significant difference in the mean recovery times.\n"
     ]
    }
   ],
   "source": [
    "'''9. Scenario: A study is conducted to compare the effectiveness of two different medications. The recovery times of the patients in each group are as follows:\n",
    "   Medication A: [10, 12, 14, 11, 13]\n",
    "   Medication B: [15, 17, 16, 14, 18]\n",
    "   Perform an analysis of variance (ANOVA) to determine if there is a significant difference in the mean recovery times between the two medications.'''\n",
    "\n",
    "#Answer:-\n",
    "from scipy import stats\n",
    "\n",
    "medication_a = [10, 12, 14, 11, 13]\n",
    "medication_b = [15, 17, 16, 14, 18]\n",
    "\n",
    "f_value, p_value = stats.f_oneway(medication_a, medication_b)\n",
    "print(p_value)\n",
    "#Hypothesis\n",
    "if p_value < 0.05:\n",
    "    print(\"there is a significant difference in the mean recovery times.\")\n",
    "else:\n",
    "    print(\"there is no significant difference in the mean recovery times.\")\n"
   ]
  },
  {
   "cell_type": "code",
   "execution_count": 23,
   "id": "004b588b-ccfe-45dc-a6fa-93a39f93bd34",
   "metadata": {},
   "outputs": [
    {
     "name": "stdout",
     "output_type": "stream",
     "text": [
      "8.75\n"
     ]
    }
   ],
   "source": [
    "'''10. Scenario: A company wants to analyze customer feedback ratings on a scale of 1 to 10. The data collected is\n",
    "\n",
    " as follows:\n",
    "    [8, 9, 7, 6, 8, 10, 9, 8, 7, 8]\n",
    "    Calculate the 75th percentile of the feedback ratings.'''\n",
    "\n",
    "#Answer:-\n",
    "import numpy as np\n",
    "\n",
    "data = [8, 9, 7, 6, 8, 10, 9, 8, 7, 8]\n",
    "\n",
    "percentile_75 = np.percentile(data, 75)\n",
    "\n",
    "print(percentile_75)\n"
   ]
  },
  {
   "cell_type": "code",
   "execution_count": 32,
   "id": "881e3abe-c812-43c5-b5c7-8637075bc073",
   "metadata": {},
   "outputs": [
    {
     "name": "stdout",
     "output_type": "stream",
     "text": [
      "0.19077595151110102\n",
      "No, the mean weight does not differ significantly from 10 grams.\n"
     ]
    }
   ],
   "source": [
    "'''11. Scenario: A quality control department wants to test the weight consistency of a product. The weights of a sample of products are as follows:\n",
    "    [10.2, 9.8, 10.0, 10.5, 10.3, 10.1]\n",
    "    Perform a hypothesis test to determine if the mean weight differs significantly from 10 grams.'''\n",
    "\n",
    "#Answer:-\n",
    "from scipy import stats\n",
    "\n",
    "weights = [10.2, 9.8, 10.0, 10.5, 10.3, 10.1]\n",
    "_mean = 10.0\n",
    "\n",
    "t_stats, p_value = stats.ttest_1samp(weights, _mean)\n",
    "print(p_value)\n",
    "#Hypothesis\n",
    "if p_value < 0.05:\n",
    "    print(\"the mean weight differs significantly from 10 grams.\")\n",
    "else:\n",
    "    print(\"No, the mean weight does not differ significantly from 10 grams.\")\n"
   ]
  },
  {
   "cell_type": "code",
   "execution_count": 33,
   "id": "033dfd4b-26f5-4bd1-929f-29691116c017",
   "metadata": {},
   "outputs": [
    {
     "name": "stdout",
     "output_type": "stream",
     "text": [
      "0.19103526314060293\n",
      "No, there is a no significant difference in the click-through rates.\n"
     ]
    }
   ],
   "source": [
    "'''12. Scenario: A company wants to analyze the click-through rates of two different website designs. The number of clicks for each design is as follows:\n",
    "    Design A: [100, 120, 110, 90, 95]\n",
    "    Design B: [80, 85, 90, 95, 100]\n",
    "    Perform a chi-square test to determine if there is a significant difference in the click-through rates between the two designs.'''\n",
    "\n",
    "#Answer:-\n",
    "from scipy import stats\n",
    "\n",
    "\n",
    "Design_A = [100, 120, 110, 90, 95]\n",
    "Design_B = [80, 85, 90, 95, 100]\n",
    "\n",
    "value = [Design_A, Design_B]\n",
    "chi2, p_value, dof, expected = stats.chi2_contingency(value)\n",
    "print(p_value)\n",
    "#Hypothesis\n",
    "if p_value < 0.05:\n",
    "    print(\"there is a significant difference in the click-through rates.\")\n",
    "else:\n",
    "    print(\"No, there is a no significant difference in the click-through rates.\")"
   ]
  },
  {
   "cell_type": "code",
   "execution_count": 34,
   "id": "f47df8e5-fd25-4b04-9eab-5a3bd32712e6",
   "metadata": {},
   "outputs": [
    {
     "name": "stdout",
     "output_type": "stream",
     "text": [
      "95% Confidence Interval: (7.043561120599888, 8.756438879400113)\n"
     ]
    }
   ],
   "source": [
    "'''13. Scenario: A survey is conducted to measure customer satisfaction with a product on a scale of 1 to 10. The data collected is as follows:\n",
    "    [7, 9, 6, 8, 10, 7, 8, 9, 7, 8]\n",
    "    Calculate the 95% confidence interval for the population mean satisfaction score.'''\n",
    "\n",
    "#Answer:-\n",
    "import numpy as np\n",
    "from scipy import stats\n",
    "\n",
    "data = [7, 9, 6, 8, 10, 7, 8, 9, 7, 8]\n",
    "confidence_level = 0.95\n",
    "\n",
    "sample_mean = np.mean(data)\n",
    "sample_std = np.std(data, ddof=1)\n",
    "sample_size = len(data)\n",
    "\n",
    "t_value = stats.t.ppf((1 + confidence_level) / 2, df=sample_size - 1)\n",
    "margin_of_error = t_value * (sample_std / np.sqrt(sample_size))\n",
    "\n",
    "confidence_interval = (sample_mean - margin_of_error, sample_mean + margin_of_error)\n",
    "\n",
    "print(\"95% Confidence Interval:\", confidence_interval)\n"
   ]
  },
  {
   "cell_type": "code",
   "execution_count": 41,
   "id": "69adbc7f-9f55-449b-acb1-aa8b7d68ed02",
   "metadata": {},
   "outputs": [
    {
     "name": "stdout",
     "output_type": "stream",
     "text": [
      "Slope: 0.5\n",
      "Intercept: -2.9000000000000004\n",
      "p-value: 0.19417134561205843\n"
     ]
    }
   ],
   "source": [
    "'''14. Scenario: A company wants to analyze the effect of temperature on product performance. The data collected is as follows:\n",
    "    Temperature (in degrees Celsius): [20, 22, 23, 19, 21]\n",
    "    Performance (on a scale of 1 to 10): [8, 7, 9, 6, 8]\n",
    "    Perform a simple linear regression to predict performance based on temperature.'''\n",
    "\n",
    "#Answer:-\n",
    "import numpy as np\n",
    "from scipy import stats\n",
    "\n",
    "\n",
    "temperature = np.array([20, 22, 23, 19, 21])\n",
    "\n",
    "performance = np.array([8, 7, 9, 6, 8])\n",
    "\n",
    "slope, intercept, r_value, p_value, std_err = stats.linregress(temperature, performance)\n",
    "\n",
    "print(\"Slope:\", slope) #the change in performance per unit change in temperature\n",
    "print(\"Intercept:\", intercept) #The predicted performance when the temperature is 0\n",
    "print(\"p-value:\", p_value)\n",
    "\n"
   ]
  },
  {
   "cell_type": "code",
   "execution_count": 5,
   "id": "589a91ee-ad79-46d4-a70c-f8a75eb6e8ab",
   "metadata": {},
   "outputs": [
    {
     "name": "stdout",
     "output_type": "stream",
     "text": [
      "0.380836480306712\n",
      "No, there is no significant difference in the median preferences between the two groups.\n"
     ]
    }
   ],
   "source": [
    "'''15. Scenario: A study is conducted to compare the preferences of two groups of participants. The preferences are measured on a Likert scale from 1 to 5. The data collected is as follows:\n",
    "    Group A: [4, 3, 5, 2, 4]\n",
    "    Group B: [3, 2, 4, 3, 3]\n",
    "    Perform a Mann-Whitney U test to determine if there is a significant difference in the median preferences between the two groups.'''\n",
    "\n",
    "#Answer:-\n",
    "from scipy import stats\n",
    "\n",
    "group_a = [4, 3, 5, 2, 4]\n",
    "group_b = [3, 2, 4, 3, 3]\n",
    "\n",
    "statistic, p_value = stats.mannwhitneyu(group_a, group_b)\n",
    "print(p_value)\n",
    "#Hypothesis\n",
    "if p_value < 0.05:\n",
    "    print(\" there is a significant difference in the median preferences between the two groups.\")\n",
    "else:\n",
    "    print(\"No, there is no significant difference in the median preferences between the two groups.\")\n"
   ]
  },
  {
   "cell_type": "code",
   "execution_count": 7,
   "id": "5fa02bd0-9509-444a-944e-86c3fa4bf80b",
   "metadata": {},
   "outputs": [
    {
     "name": "stdout",
     "output_type": "stream",
     "text": [
      "interquartile range (IQR): 22.5\n"
     ]
    }
   ],
   "source": [
    "'''16. Scenario: A company wants to analyze the distribution of customer ages. The data collected is as follows:\n",
    "    [25, 30, 35, 40, 45, 50, 55, 60, 65, 70]\n",
    "    Calculate the interquartile range (IQR) of the ages.'''\n",
    "\n",
    "#Answer:-\n",
    "import numpy as np\n",
    "\n",
    "ages = [25, 30, 35, 40, 45, 50, 55, 60, 65, 70]\n",
    "\n",
    "q1 = np.percentile(ages, 25)\n",
    "q3 = np.percentile(ages, 75)\n",
    "\n",
    "iqr = q3 - q1\n",
    "\n",
    "print(\"interquartile range (IQR):\", iqr)\n"
   ]
  },
  {
   "cell_type": "code",
   "execution_count": 8,
   "id": "47420c44-5875-4cd9-94ec-1cacea84e11e",
   "metadata": {},
   "outputs": [
    {
     "name": "stdout",
     "output_type": "stream",
     "text": [
      "0.007840333026249539\n",
      " there is a significant difference in the median preferences between the two groups.\n"
     ]
    }
   ],
   "source": [
    "'''17. Scenario: A study is conducted to compare the performance of three different machine learning algorithms. The accuracy scores for each algorithm are as follows:\n",
    "    Algorithm A: [0.85, 0.80, 0.82, 0.87, 0.83]\n",
    "    Algorithm B: [0.78, 0.82, 0.84, 0.80, 0.79]\n",
    "    Algorithm C: [0.90, 0.88, 0.89, 0.86, 0.87]\n",
    "    Perform a Kruskal-Wallis test to determine if there is a significant difference in the median accuracy scores between the algorithms.'''\n",
    "\n",
    "#Answer:-\n",
    "from scipy import stats\n",
    "\n",
    "algorithm_a = [0.85, 0.80, 0.82, 0.87, 0.83]\n",
    "algorithm_b = [0.78, 0.82, 0.84, 0.80, 0.79]\n",
    "algorithm_c = [0.90, 0.88, 0.89, 0.86, 0.87]\n",
    "statistic, p_value = stats.kruskal(algorithm_a, algorithm_b, algorithm_c)\n",
    "\n",
    "print(p_value)\n",
    "#Hypothesis\n",
    "if p_value < 0.05:\n",
    "    print(\" there is a significant difference in the median accuracy scores between the algorithms.\")\n",
    "else:\n",
    "    print(\"No, there is no significant difference in the median accuracy scores between the algorithms.\")\n"
   ]
  },
  {
   "cell_type": "code",
   "execution_count": 9,
   "id": "6a887607-12c8-4421-9212-2e12842edbf7",
   "metadata": {},
   "outputs": [
    {
     "name": "stdout",
     "output_type": "stream",
     "text": [
      "[87.28658537 90.79268293]\n"
     ]
    }
   ],
   "source": [
    "'''18. Scenario: A company wants to analyze the effect of price on sales. The data collected is as follows:\n",
    "    Price (in dollars): [10, 15, 12, 8, 14]\n",
    "    Sales: [100, 80, 90, 110, 95]\n",
    "    Perform a simple linear regression to predict\n",
    "\n",
    " sales based on price.'''\n",
    "\n",
    "#Answer:-\n",
    "from sklearn.linear_model import LinearRegression\n",
    "import numpy as np\n",
    "\n",
    "price = [10, 15, 12, 8, 14]\n",
    "sales = [100, 80, 90, 110, 95]\n",
    "\n",
    "x = np.array(price).reshape(-1,1)\n",
    "y = np.array(sales)\n",
    "\n",
    "model = LinearRegression()\n",
    "model.fit(x,y)\n",
    "\n",
    "new_data = np.array([14, 13]).reshape((-1, 1))\n",
    "predictions = model.predict(new_data)\n",
    "print(predictions)"
   ]
  },
  {
   "cell_type": "code",
   "execution_count": 11,
   "id": "d888cf69-b573-456b-b758-03d4977cfa87",
   "metadata": {},
   "outputs": [
    {
     "name": "stdout",
     "output_type": "stream",
     "text": [
      "standard error:  0.30550504633038933\n"
     ]
    }
   ],
   "source": [
    "'''19. Scenario: A survey is conducted to measure the satisfaction levels of customers with a new product. The data collected is as follows:\n",
    "    [7, 8, 9, 6, 8, 7, 9, 7, 8, 7]\n",
    "    Calculate the standard error of the mean satisfaction score.'''\n",
    "\n",
    "#Answer:-\n",
    "from scipy import stats\n",
    "\n",
    "data = [7, 8, 9, 6, 8, 7, 9, 7, 8, 7]\n",
    "\n",
    "standard_error = stats.sem(data)\n",
    "\n",
    "print(\"standard error: \", standard_error)\n"
   ]
  },
  {
   "cell_type": "code",
   "execution_count": 5,
   "id": "2562feeb-09e8-4e8d-a641-d8de93597e0c",
   "metadata": {},
   "outputs": [
    {
     "name": "stdout",
     "output_type": "stream",
     "text": [
      "\n",
      "Predictions:\n",
      "[24.87804878 27.18292683 30.6402439 ]\n"
     ]
    }
   ],
   "source": [
    "'''20. Scenario: A company wants to analyze the relationship between advertising expenditure and sales. The data collected is as follows:\n",
    "    Advertising Expenditure (in thousands): [10, 15, 12, 8, 14]\n",
    "    Sales (in thousands): [25, 30, 28, 20, 26]\n",
    "    Perform a multiple regression analysis to predict sales based on advertising expenditure.'''\n",
    "\n",
    "#Answer:-\n",
    "import numpy as np\n",
    "import statsmodels.api as sm\n",
    "\n",
    "\n",
    "expenditure = np.array([10, 15, 12, 8, 14])\n",
    "sales = np.array([25, 30, 28, 20, 26])\n",
    "expenditure_with_constant = sm.add_constant(expenditure)\n",
    "\n",
    "\n",
    "model = sm.OLS(sales, expenditure_with_constant)\n",
    "\n",
    "results = model.fit()\n",
    "\n",
    "new_expenditure = np.array([11, 13, 16])\n",
    "new_expenditure_with_constant = sm.add_constant(new_expenditure)\n",
    "predictions = results.predict(new_expenditure_with_constant)\n",
    "\n",
    "print(\"\\nPredictions:\")\n",
    "print(predictions)\n"
   ]
  },
  {
   "cell_type": "code",
   "execution_count": null,
   "id": "2e9b06df-b76b-4f16-ad3d-9cd54c871631",
   "metadata": {},
   "outputs": [],
   "source": []
  }
 ],
 "metadata": {
  "kernelspec": {
   "display_name": "Python 3 (ipykernel)",
   "language": "python",
   "name": "python3"
  },
  "language_info": {
   "codemirror_mode": {
    "name": "ipython",
    "version": 3
   },
   "file_extension": ".py",
   "mimetype": "text/x-python",
   "name": "python",
   "nbconvert_exporter": "python",
   "pygments_lexer": "ipython3",
   "version": "3.10.6"
  }
 },
 "nbformat": 4,
 "nbformat_minor": 5
}
