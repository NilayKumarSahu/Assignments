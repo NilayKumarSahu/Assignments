{
 "cells": [
  {
   "cell_type": "code",
   "execution_count": 3,
   "id": "a8dfcefb-edd6-4245-a6e8-036edc0117b3",
   "metadata": {},
   "outputs": [
    {
     "name": "stdout",
     "output_type": "stream",
     "text": [
      "True\n",
      "True\n",
      "False\n"
     ]
    }
   ],
   "source": [
    "'''Question 1\n",
    "\n",
    "Given an integer `n`, return *`true` if it is a power of two. Otherwise, return `false`*.\n",
    "\n",
    "An integer `n` is a power of two, if there exists an integer `x` such that `n == 2x`.\n",
    "\n",
    "**Example 1:**\n",
    "Input: n = 1 \n",
    "\n",
    "Output: true\n",
    "\n",
    "**Example 2:**\n",
    "Input: n = 16 \n",
    "\n",
    "Output: true\n",
    "\n",
    "**Example 3:**\n",
    "Input: n = 3 \n",
    "\n",
    "Output: false'''\n",
    "\n",
    "\n",
    "#Answer:-\n",
    "def is_power_of_2(n):\n",
    "    if n <= 0:\n",
    "        return False\n",
    "    \n",
    "    return (n & (n - 1)) == 0\n",
    "\n",
    "n = 1\n",
    "print(is_power_of_2(n)) \n",
    "\n",
    "n = 16\n",
    "print(is_power_of_2(n))  \n",
    "\n",
    "n = 3\n",
    "print(is_power_of_2(n))\n"
   ]
  },
  {
   "cell_type": "code",
   "execution_count": 5,
   "id": "5278972e-2fa5-4559-8f2a-1f3078a0fe68",
   "metadata": {},
   "outputs": [
    {
     "name": "stdout",
     "output_type": "stream",
     "text": [
      "6\n",
      "15\n"
     ]
    }
   ],
   "source": [
    "'''Question 2\n",
    "\n",
    "Given a number n, find the sum of the first natural numbers.\n",
    "\n",
    "**Example 1:**\n",
    "\n",
    "Input: n = 3 \n",
    "\n",
    "Output: 6\n",
    "\n",
    "**Example 2:**\n",
    "\n",
    "Input  : 5 \n",
    "\n",
    "Output : 15'''\n",
    "\n",
    "#Answer:-\n",
    "def sumoffirst(n):\n",
    "    return (n * (n + 1)) // 2\n",
    "\n",
    "\n",
    "n = 3\n",
    "print(sumoffirst(n))\n",
    "\n",
    "n = 5\n",
    "print(sumoffirst(n))\n"
   ]
  },
  {
   "cell_type": "code",
   "execution_count": 6,
   "id": "8ac1708d-5b37-4072-a8cd-0faa6b79ca17",
   "metadata": {},
   "outputs": [
    {
     "name": "stdout",
     "output_type": "stream",
     "text": [
      "120\n",
      "24\n"
     ]
    }
   ],
   "source": [
    "'''Question 3\n",
    "\n",
    "****Given a positive integer, N. Find the factorial of N. \n",
    "\n",
    "**Example 1:**\n",
    "\n",
    "Input: N = 5 \n",
    "\n",
    "Output: 120\n",
    "\n",
    "**Example 2:**\n",
    "\n",
    "Input: N = 4\n",
    "\n",
    "Output: 24'''\n",
    "\n",
    "\n",
    "#Answer:-\n",
    "def factorial(N):\n",
    "    factorial = 1\n",
    "    for i in range(1, N + 1):\n",
    "        factorial *= i\n",
    "    return factorial\n",
    "\n",
    "N = 5\n",
    "print(factorial(N))\n",
    "\n",
    "N = 4\n",
    "print(factorial(N)) \n"
   ]
  },
  {
   "cell_type": "code",
   "execution_count": 8,
   "id": "16ebf10d-5f77-47c7-b2b5-6cf33aefb0fb",
   "metadata": {},
   "outputs": [
    {
     "name": "stdout",
     "output_type": "stream",
     "text": [
      "25\n",
      "32\n"
     ]
    }
   ],
   "source": [
    "'''Question 4\n",
    "\n",
    "Given a number N and a power P, the task is to find the exponent of this number raised to the given power, i.e. N^P.\n",
    "\n",
    "**Example 1 :** \n",
    "\n",
    "Input: N = 5, P = 2\n",
    "\n",
    "Output: 25\n",
    "\n",
    "**Example 2 :**\n",
    "Input: N = 2, P = 5\n",
    "\n",
    "Output: 32'''\n",
    "\n",
    "#Answer:-\n",
    "def power(N, P):\n",
    "    return N ** P\n",
    "\n",
    "\n",
    "N = 5\n",
    "P = 2\n",
    "print(power(N, P))\n",
    "\n",
    "N = 2\n",
    "P = 5\n",
    "print(power(N, P))  "
   ]
  },
  {
   "cell_type": "code",
   "execution_count": 10,
   "id": "4f33564b-8d02-43ba-b4e3-11a54829434c",
   "metadata": {},
   "outputs": [
    {
     "name": "stdout",
     "output_type": "stream",
     "text": [
      "8\n",
      "45\n"
     ]
    }
   ],
   "source": [
    "'''Question 5\n",
    "\n",
    "Given an array of integers **arr**, the task is to find maximum element of that array using recursion.\n",
    "\n",
    "**Example 1:**\n",
    "\n",
    "Input: arr = {1, 4, 3, -5, -4, 8, 6};\n",
    "Output: 8\n",
    "\n",
    "**Example 2:**\n",
    "\n",
    "Input: arr = {1, 4, 45, 6, 10, -8};\n",
    "Output: 45'''\n",
    "\n",
    "#Answer:-\n",
    "def findmax(arr, start):\n",
    "    \n",
    "    if start == len(arr) - 1:\n",
    "        return arr[start]\n",
    "    \n",
    "    \n",
    "    return max(arr[start], findmax(arr, start + 1))\n",
    "\n",
    "\n",
    "arr = [1, 4, 3, -5, -4, 8, 6]\n",
    "print(findmax(arr, 0))\n",
    "\n",
    "arr = [1, 4, 45, 6, 10, -8]\n",
    "print(findmax(arr, 0))\n",
    "\n",
    "\n",
    "\n"
   ]
  },
  {
   "cell_type": "code",
   "execution_count": 11,
   "id": "24aaebcd-eabb-4775-a474-c222aea3b24b",
   "metadata": {},
   "outputs": [
    {
     "name": "stdout",
     "output_type": "stream",
     "text": [
      "6\n",
      "23\n"
     ]
    }
   ],
   "source": [
    "'''Question 6\n",
    "\n",
    "Given first term (a), common difference (d) and a integer N of the Arithmetic Progression series, the task is to find Nth term of the series.\n",
    "\n",
    "**Example 1:**\n",
    "\n",
    "Input : a = 2 d = 1 N = 5\n",
    "Output : 6\n",
    "The 5th term of the series is : 6\n",
    "\n",
    "**Example 2:**\n",
    "\n",
    "Input : a = 5 d = 2 N = 10\n",
    "Output : 23\n",
    "The 10th term of the series is : 23'''\n",
    "\n",
    "#Answer:-\n",
    "def findNthterm(a, d, N):\n",
    "    nth_term = a + (N - 1) * d\n",
    "    return nth_term\n",
    "\n",
    "a = 2\n",
    "d = 1\n",
    "N = 5\n",
    "print(findNthterm(a, d, N))  # Output: 6\n",
    "\n",
    "a = 5\n",
    "d = 2\n",
    "N = 10\n",
    "print(findNthterm(a, d, N))  # Output: 23\n"
   ]
  },
  {
   "cell_type": "code",
   "execution_count": 12,
   "id": "4c83f6cb-62d6-4db1-9e6b-2a777ddfc9f8",
   "metadata": {},
   "outputs": [
    {
     "name": "stdout",
     "output_type": "stream",
     "text": [
      "['ABC', 'ACB', 'BAC', 'BCA', 'CAB', 'CBA']\n",
      "['XY', 'YX']\n"
     ]
    }
   ],
   "source": [
    "'''Question 7\n",
    "\n",
    "Given a string S, the task is to write a program to print all permutations of a given string.\n",
    "\n",
    "**Example 1:**\n",
    "\n",
    "***Input:***\n",
    "\n",
    "*S = “ABC”*\n",
    "\n",
    "***Output:***\n",
    "\n",
    "*“ABC”, “ACB”, “BAC”, “BCA”, “CBA”, “CAB”*\n",
    "\n",
    "**Example 2:**\n",
    "\n",
    "***Input:***\n",
    "\n",
    "*S = “XY”*\n",
    "\n",
    "***Output:***\n",
    "\n",
    "*“XY”, “YX”*'''\n",
    "\n",
    "#Answer:-\n",
    "def permute(current, remaining, result):\n",
    "    if len(remaining) == 0:\n",
    "        result.append(current)\n",
    "    \n",
    "    for i in range(len(remaining)):\n",
    "        char = remaining[i]\n",
    "        new_remaining = remaining[:i] + remaining[i+1:]\n",
    "        new_current = current + char\n",
    "        permute(new_current, new_remaining, result)\n",
    "\n",
    "def printpermutations(S):\n",
    "    result = []\n",
    "    permute('', S, result)\n",
    "    return result\n",
    "\n",
    "\n",
    "S = \"ABC\"\n",
    "print(printpermutations(S))\n",
    "\n",
    "S = \"XY\"\n",
    "print(printpermutations(S))\n"
   ]
  },
  {
   "cell_type": "code",
   "execution_count": 13,
   "id": "99f04b11-1d48-490f-b40c-d4032e52fa84",
   "metadata": {},
   "outputs": [
    {
     "name": "stdout",
     "output_type": "stream",
     "text": [
      "120\n",
      "18\n"
     ]
    }
   ],
   "source": [
    "'''Question 8\n",
    "\n",
    "Given an array, find a product of all array elements.\n",
    "\n",
    "**Example 1:**\n",
    "\n",
    "Input  : arr[] = {1, 2, 3, 4, 5}\n",
    "Output : 120\n",
    "**Example 2:**\n",
    "\n",
    "Input  : arr[] = {1, 6, 3}\n",
    "Output : 18'''\n",
    "\n",
    "#Answer:-\n",
    "def productofarr(arr):\n",
    "    product = 1\n",
    "    for num in arr:\n",
    "        product *= num\n",
    "    return product\n",
    "\n",
    "arr = [1, 2, 3, 4, 5]\n",
    "print(productofarr(arr))\n",
    "\n",
    "arr = [1, 6, 3]\n",
    "print(productofarr(arr))\n"
   ]
  },
  {
   "cell_type": "code",
   "execution_count": null,
   "id": "83a3c82e-a7f4-44b6-8589-f367a6feba9d",
   "metadata": {},
   "outputs": [],
   "source": []
  }
 ],
 "metadata": {
  "kernelspec": {
   "display_name": "Python 3 (ipykernel)",
   "language": "python",
   "name": "python3"
  },
  "language_info": {
   "codemirror_mode": {
    "name": "ipython",
    "version": 3
   },
   "file_extension": ".py",
   "mimetype": "text/x-python",
   "name": "python",
   "nbconvert_exporter": "python",
   "pygments_lexer": "ipython3",
   "version": "3.10.6"
  }
 },
 "nbformat": 4,
 "nbformat_minor": 5
}
