{
 "cells": [
  {
   "cell_type": "raw",
   "id": "e89eda66-bea7-4b68-830b-e2aaf7083ac0",
   "metadata": {},
   "source": [
    "1. What exactly is []?\n",
    "\n",
    "Answer:- [] these are square brackets used in python to create a list, list is a data type in a python which can contain any data type within itself, index brackets are used to represent or create a list."
   ]
  },
  {
   "cell_type": "raw",
   "id": "fd23b574-15ae-4f51-afbc-8437a17d3a32",
   "metadata": {},
   "source": [
    "2. In a list of values stored in a variable called spam, how would you assign the value 'hello' as the\n",
    "third value? (Assume [2, 4, 6, 8, 10] are in spam.)\n",
    "Lets pretend the spam includes the list ['a','b','c','d'] for the next three queries.\n",
    "\n",
    "Answer:- To assign the value 'hello' as the third value, we can assign it to spam with indexing.\n",
    "\n",
    "Example:- \n",
    "         spam = [2, 4, 6, 8, 10]\n",
    "         spam[2] = 'hello'  # assigning value to index no 3 in spam\n",
    "         print(spam)"
   ]
  },
  {
   "cell_type": "raw",
   "id": "0a2d6d2a-54a5-4a67-a6d5-808ab18f88f4",
   "metadata": {},
   "source": [
    "3. What is the value of spam[int(int('3' * 2) / 11)]?\n",
    "\n",
    "Answer:- The value of spam[int(int('3' * 2) / 11)] is 'd'."
   ]
  },
  {
   "cell_type": "raw",
   "id": "027fd036-b7d3-4588-bec5-90c33fcf850d",
   "metadata": {},
   "source": [
    "4. What is the value of spam[-1]?\n",
    "\n",
    "Answer:- list[-1] returns the last value in the list so value of spam[-1] is 'd'."
   ]
  },
  {
   "cell_type": "raw",
   "id": "43189d4d-cedc-4109-b67b-c8555bbcc2b9",
   "metadata": {},
   "source": [
    "5. What is the value of spam[:2]?\n",
    "Let's pretend bacon has the list [3.14, 'cat', 11, 'cat', True] for the next three questions.\n",
    "\n",
    "Answer:- list[:2] returns the value in between 0 to 2 range so value of spam[:2] is ['a', 'b']."
   ]
  },
  {
   "cell_type": "raw",
   "id": "1f80b82a-83a5-4472-8665-e32a9e54e7a3",
   "metadata": {},
   "source": [
    "6. What is the value of bacon.index('cat')?\n",
    "\n",
    "Answer:- list.index('value') is used to get the index value of the given value in list, so bacon.index('cat') value is 1.\n"
   ]
  },
  {
   "cell_type": "raw",
   "id": "cd70a198-f075-429c-a75a-401ca6ffcebf",
   "metadata": {},
   "source": [
    "7. How does bacon.append(99) change the look of the list value in bacon?\n",
    "\n",
    "Answer:- list.append(value) is used to insert a value in the list, also it inserts the value in the last index of list, So bacon.append(99) will insert 99 in the last index of bacon.\n",
    "\n",
    "exa:-  bacon = [3.14, 'cat', 11, 'cat', True]\n",
    "       bacon.append(99)\n",
    "       bacon\n",
    "output:- [3.14, 'cat', 11, 'cat', True, 99]"
   ]
  },
  {
   "cell_type": "raw",
   "id": "823a2778-07a9-4e8e-bfc3-d5df93100691",
   "metadata": {},
   "source": [
    "8. How does bacon.remove('cat') change the look of the list in bacon?\n",
    "\n",
    "Answer:- list.remove(value) deletes the first occurence of the given value, so bacon.remove('cat') will delete the value 'cat' first occurence from the list.\n",
    "\n",
    "Exa:-  bacon = [3.14, 'cat', 11, 'cat', True]\n",
    "       bacon.remove('cat')\n",
    "       bacon\n",
    "output:- [3.14, 11, 'cat', True, 99]"
   ]
  },
  {
   "cell_type": "raw",
   "id": "03f5effa-0b31-428e-a79d-6fc089d0706c",
   "metadata": {},
   "source": [
    "9. What are the list concatenation and list replication operators?\n",
    "\n",
    "Answer:- List concatenation operator '+' is used to concatenate two lists.\n",
    "\n",
    "Exa:- list1 = [1,2,3,4]\n",
    "      list2 = [5,6,7,8]\n",
    "      list1 + list2\n",
    "output:- [1, 2, 3, 4, 5, 6, 7, 8]\n",
    "\n",
    "List replication operator '*' is used to replicate the exact copy of an existing list.\n",
    "\n",
    "Exa:- list1 = [1,2,3,4]\n",
    "      replicated_list = list1*2\n",
    "      print(replicated_list)\n",
    "output:- [1, 2, 3, 4, 1, 2, 3, 4]      "
   ]
  },
  {
   "cell_type": "raw",
   "id": "50b3d5e8-2134-4d7f-8b13-6c9e36e7ca00",
   "metadata": {},
   "source": [
    "10. What is difference between the list methods append() and insert()?\n",
    "\n",
    "Answer:- append() method puts the specified value in the last index of the list where as insert() puts the specified value in the specified index, index takes two arguments first is the index number where you wanna put your value and second argument is value.\n",
    "\n",
    "Exa:- list1 = [1,2,3,4]\n",
    "      list1.insert(0,5)\n",
    "      list1.append(0)\n",
    "      list1\n",
    "Output:- [5, 1, 2, 3, 4, 0]     "
   ]
  },
  {
   "cell_type": "raw",
   "id": "c382ab21-2d55-4012-833d-bb6fb6291764",
   "metadata": {},
   "source": [
    "11. What are the two methods for removing items from a list?\n",
    "\n",
    "Answer:- The two methods for removing items from a list are:-\n",
    "          1. remove()\n",
    "          2. del\n",
    "          \n",
    "Exa:- list1 = [5, 1, 2, 3, 4, 0]\n",
    "      list1.remove(5) # value that needs to be removed given as arguement\n",
    "      del list1[2] # the index number of value that needs to be removed given                        as arguement\n",
    "      list1\n",
    "Output:- [1, 2, 4, 0]"
   ]
  },
  {
   "cell_type": "raw",
   "id": "e0696213-c43d-4940-a1f6-09875a358283",
   "metadata": {},
   "source": [
    "12. Describe how list values and string values are identical.\n",
    "\n",
    "Answer:-  Similarities between list values and string values:-\n",
    "1. Values of both data types can be iterated that means we can access each value in both data type.\n",
    "\n",
    "2. Both string and list can be concatenated using '+' operator.\n",
    "\n",
    "3. Both data types can be sliced to get the specific values in them.\n",
    "\n",
    "4. Both string and list values can be accessed using index number."
   ]
  },
  {
   "cell_type": "raw",
   "id": "3baa9a5c-2b1f-4294-8812-6c139defd589",
   "metadata": {},
   "source": [
    "13. What's the difference between tuples and lists?\n",
    "\n",
    "Answer:- Difference between tuples and lists:-\n",
    "1. List are mutable but tuples are immutable.\n",
    "\n",
    "2. tuples are created using parantheses '()' and lists are created using '[]' square brackets.\n",
    "\n",
    "3. Tuples are used to represent fixed values but list used to represent the value that may change.\n",
    "\n",
    "4. Accessing values in tuples is fater compare to a list."
   ]
  },
  {
   "cell_type": "raw",
   "id": "3411c508-5f8e-47d0-b58d-da4a38c95142",
   "metadata": {},
   "source": [
    "14. How do you type a tuple value that only contains the integer 42?\n",
    "\n",
    "Answer:- To type a tuple that only contains value 42, simply just put 42 in a parantheses bracket with comma(note:- comma is very important or python will show it as an integer.)\n",
    "\n",
    "example:- my = (42,)\n",
    "          type(my)\n",
    "          \n",
    "Output:- tuple          "
   ]
  },
  {
   "cell_type": "raw",
   "id": "9937798e-5b29-4ac5-b3c2-92ef56d91875",
   "metadata": {},
   "source": [
    "15. How do you get a list value's tuple form? How do you get a tuple value's list form?\n",
    "\n",
    "Answer:- Simply just by using type casting, so to get list value's in tuple form just put the value's inside tuple() function it'll change the list value's in tuple.\n",
    "Exa:- list1 = [5, 1, 2, 3, 4, 0]\n",
    "      tuple_ = tuple(list1) #type casting\n",
    "      type(tuple_)\n",
    "output:- tuple\n",
    "\n",
    "To get tuple value's in list form just put the value's inside list() function, it'll change the tuple value's in list.\n",
    "Exa:- tuple1= (5, 1, 2, 3, 4, 0)\n",
    "      list_ = list(tuple1)\n",
    "      type(list_)\n",
    "output:- list"
   ]
  },
  {
   "cell_type": "raw",
   "id": "2d988bc9-f583-4036-adb6-2b19deaa92e2",
   "metadata": {},
   "source": [
    "16. Variables that \"contain\" list values are not necessarily lists themselves. Instead, what do they contain?\n",
    "\n",
    "Answer:- Actually they contains reference where the list values are stored in memory."
   ]
  },
  {
   "cell_type": "raw",
   "id": "52840617-3d9d-46ff-918b-f7613a66fe55",
   "metadata": {},
   "source": [
    "17. How do you distinguish between copy.copy() and copy.deepcopy()?\n",
    "\n",
    "Answer:- copy.copy() makes a shallow copy of the data and any changes in the copied data will also be changed into original data as well.\n",
    "Where as copy.deepcopy() makes a deep copy of the data and any changes in the copied "
   ]
  }
 ],
 "metadata": {
  "kernelspec": {
   "display_name": "Python 3 (ipykernel)",
   "language": "python",
   "name": "python3"
  },
  "language_info": {
   "codemirror_mode": {
    "name": "ipython",
    "version": 3
   },
   "file_extension": ".py",
   "mimetype": "text/x-python",
   "name": "python",
   "nbconvert_exporter": "python",
   "pygments_lexer": "ipython3",
   "version": "3.10.6"
  }
 },
 "nbformat": 4,
 "nbformat_minor": 5
}
