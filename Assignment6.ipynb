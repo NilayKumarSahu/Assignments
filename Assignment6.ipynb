{
 "cells": [
  {
   "cell_type": "raw",
   "id": "701eea6c-4b97-4798-81c0-dee6ee216f5e",
   "metadata": {},
   "source": [
    "1. What are escape characters, and how do you use them?\n",
    "\n",
    "Answer:- Escape charaters are the special characters which are used to easily type or display data in new line or adding up tab space.\n",
    "\n",
    "Usage:- \n",
    "print(\"Hello\\tworld\\nI am nilay\")\n",
    "\n",
    "output:- \n",
    "Hello\tworld #\\t added a tab space\n",
    "I am nilay #\\n printed data in new line"
   ]
  },
  {
   "cell_type": "raw",
   "id": "f6985f24-038b-4fca-9783-6a2f72515a5f",
   "metadata": {},
   "source": [
    "2. What do the escape characters n and t stand for?\n",
    "\n",
    "Answer:- Escape character n stands for 'newline' and t stands for tab space or horizontal tab."
   ]
  },
  {
   "cell_type": "raw",
   "id": "da945d69-f100-4493-997b-619596e25c06",
   "metadata": {},
   "source": [
    "3. What is the way to include backslash characters in a string?\n",
    "\n",
    "Answer:- To include backslash charater in a string, you need to add '\\' before it."
   ]
  },
  {
   "cell_type": "raw",
   "id": "6c055ced-8d14-4aeb-8f72-9ae2a9b48966",
   "metadata": {},
   "source": [
    "4. The string \"Howl's Moving Castle\" is a correct value. Why isn't the single quote character in the word Howl's not escaped a problem?\n",
    "\n",
    "Answer:- The reason \"Howl's Moving Castle\" is a correct value because the string is closed in double quotes if string would've closed in single quotes it would've escaped a problem."
   ]
  },
  {
   "cell_type": "raw",
   "id": "b2f7b783-a05d-4cc4-a97e-735b20854230",
   "metadata": {},
   "source": [
    "5. How do you write a string of newlines if you don't want to use the n character?\n",
    "\n",
    "Answer:- To write a string of two lines without using n character you can use three double quotes or single quotes.\n",
    "\n",
    "Exa:- \n",
    "print(\"\"\"\n",
    "one line\n",
    "new line\n",
    "\"\"\")\n",
    "output:- \n",
    "one line\n",
    "new line\n"
   ]
  },
  {
   "cell_type": "raw",
   "id": "b1128090-93f7-4b76-8977-ee9d5f88dd38",
   "metadata": {},
   "source": [
    "6. What are the values of the given expressions?\n",
    "'Hello, world!'[1]\n",
    "'Hello, world!'[0:5]\n",
    "'Hello, world!'[:5]\n",
    "'Hello, world!'[3:]\n",
    "\n",
    "Answer:- Values of the given expression:-\n",
    "'Hello, world!'[1]  = 'e'\n",
    "'Hello, world!'[0:5]= 'Hello'\n",
    "'Hello, world!'[:5] = 'Hello'\n",
    "'Hello, world!'[3:] = 'lo, world!'"
   ]
  },
  {
   "cell_type": "raw",
   "id": "c55753a2-7653-4738-9b10-72196db8686a",
   "metadata": {},
   "source": [
    "7. What are the values of the following expressions?\n",
    "'Hello'.upper()\n",
    "'Hello'.upper().isupper()\n",
    "'Hello'.upper().lower()\n",
    "\n",
    "Answer:- Values of the following expressions:-\n",
    "'Hello'.upper() = 'HELLO'\n",
    "'Hello'.upper().isupper() = True\n",
    "'Hello'.upper().lower() = 'hello'"
   ]
  },
  {
   "cell_type": "raw",
   "id": "42dec4ab-0a32-41dd-bf0d-20f1d7c534a0",
   "metadata": {},
   "source": [
    "8. What are the values of the following expressions?\n",
    "'Remember, remember, the fifth of July.'.split()\n",
    "'-'.join('There can only one.'.split())\n",
    "\n",
    "Answer:- Values of the following expressions:-\n",
    "'Remember, remember, the fifth of July.'.split() = ['Remember,', 'remember,', 'the', 'fifth', 'of', 'July.']\n",
    "'-'.join('There can only one.'.split()) = 'There-can-only-one.'\n"
   ]
  },
  {
   "cell_type": "raw",
   "id": "106cfba2-e415-4966-b992-16024b81c7f4",
   "metadata": {},
   "source": [
    "9. What are the methods for right-justifying, left-justifying, and centering a string?\n",
    "\n",
    "Answer:- \n",
    "for right justifying :- str.rjust(width[, fillchar])\n",
    "for left justifying :- str.ljust(width[, fillchar])\n",
    "for centering :- str.center(width[, fillchar])\n",
    "\n",
    "Here:- width = total width of string\n",
    "       fillchar = the character you wanna fill"
   ]
  },
  {
   "cell_type": "raw",
   "id": "04262b6e-ac14-4405-b9f6-4f54939cf768",
   "metadata": {},
   "source": [
    "10. What is the best way to remove whitespace characters from the start or end?\n",
    "\n",
    "Answer:- best way to remove whitespaces from string is :- str.strip()\n",
    "  "
   ]
  }
 ],
 "metadata": {
  "kernelspec": {
   "display_name": "Python 3 (ipykernel)",
   "language": "python",
   "name": "python3"
  },
  "language_info": {
   "codemirror_mode": {
    "name": "ipython",
    "version": 3
   },
   "file_extension": ".py",
   "mimetype": "text/x-python",
   "name": "python",
   "nbconvert_exporter": "python",
   "pygments_lexer": "ipython3",
   "version": "3.10.6"
  }
 },
 "nbformat": 4,
 "nbformat_minor": 5
}
