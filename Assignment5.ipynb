{
 "cells": [
  {
   "cell_type": "raw",
   "id": "ec219674-bb4a-4e7d-b98f-69c199fe2667",
   "metadata": {},
   "source": [
    "1. What does an empty dictionary's code look like?\n",
    "\n",
    "Answer:- An empty dictionary's code looks like \"{}\". "
   ]
  },
  {
   "cell_type": "raw",
   "id": "768a3a99-387e-4da9-be07-db2058387833",
   "metadata": {},
   "source": [
    "2. What is the value of a dictionary value with the key 'foo' and the value 42?\n",
    "\n",
    "Answer:- The value of dictionary value with the key 'foo' and the value 42 is '42'."
   ]
  },
  {
   "cell_type": "raw",
   "id": "5a06bcf7-691b-462d-87a6-b5a359774a60",
   "metadata": {},
   "source": [
    "3. What is the most significant distinction between a dictionary and a list?\n",
    "\n",
    "Answer:- Most significant distinction between a dictionary and a list is, a dictionary holds the values in key and value pairs format whereas list holds values in a ordered index format."
   ]
  },
  {
   "cell_type": "raw",
   "id": "476f0cfc-2062-4bc6-8563-814dcfe4a0f4",
   "metadata": {},
   "source": [
    "4. What happens if you try to access spam['foo'] if spam is {'bar': 100}?\n",
    "\n",
    "Answer:- It will through a key error because the key 'foo' is not present in spam."
   ]
  },
  {
   "cell_type": "raw",
   "id": "94ea26a1-fb80-4e18-844d-92b7f1ef4b3d",
   "metadata": {},
   "source": [
    "5. If a dictionary is stored in spam, what is the difference between the expressions 'cat' in spam and\n",
    "'cat' in spam.keys()?\n",
    "\n",
    "Answer:- Both checks whether the key 'cat' is present in the spam or not and will return True and False accordingly, but the difference is 'cat' in spam checks for the key 'cat' directly and 'cat' in spam.keys() checks for the 'cat' key in spam indirectly using \".keys()\" method."
   ]
  },
  {
   "cell_type": "raw",
   "id": "1e8413b9-e0db-4c17-bab5-4402a3325e27",
   "metadata": {},
   "source": [
    "6. If a dictionary is stored in spam, what is the difference between the expressions 'cat' in spam and\n",
    "'cat' in spam.values()?\n",
    "\n",
    "Answer:- 'cat' in spam checks for the key whether it is present in spam dictionary orn not and will return True and False accordingly, whereas 'cat' in spam.values() will check whether 'cat' string value is present in dictionary values or not. "
   ]
  },
  {
   "cell_type": "raw",
   "id": "52e234ae-66ee-493d-be42-316276abd286",
   "metadata": {},
   "source": [
    "7. What is a shortcut for the following code?\n",
    "if 'color' not in spam:\n",
    "spam['color'] = 'black'\n",
    "\n",
    "Answer:- shortcut for the code is :-\n",
    "         spam.setdefault('color', 'black')"
   ]
  },
  {
   "cell_type": "raw",
   "id": "5e14ed4c-347f-43b5-928e-72ddf79713ed",
   "metadata": {},
   "source": [
    "8. How do you \"pretty print\" dictionary values using which module and function?\n",
    "\n",
    "Answer:- To 'pretty print' dictionary values we use 'pprint' module's 'pprint()' function."
   ]
  },
  {
   "cell_type": "code",
   "execution_count": null,
   "id": "91e81f9d-4b9c-4fe4-8b80-cc3c75cd5592",
   "metadata": {},
   "outputs": [],
   "source": []
  }
 ],
 "metadata": {
  "kernelspec": {
   "display_name": "Python 3 (ipykernel)",
   "language": "python",
   "name": "python3"
  },
  "language_info": {
   "codemirror_mode": {
    "name": "ipython",
    "version": 3
   },
   "file_extension": ".py",
   "mimetype": "text/x-python",
   "name": "python",
   "nbconvert_exporter": "python",
   "pygments_lexer": "ipython3",
   "version": "3.10.6"
  }
 },
 "nbformat": 4,
 "nbformat_minor": 5
}
